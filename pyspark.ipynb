{
 "cells": [
  {
   "cell_type": "code",
   "execution_count": 1,
   "metadata": {
    "collapsed": false
   },
   "outputs": [],
   "source": [
    "# Configure the necessary Spark environment\n",
    "import os\n",
    "import sys\n",
    "\n",
    "spark_home = os.environ.get('SPARK_HOME', None)\n",
    "sys.path.insert(0, spark_home + \"/python\")\n",
    "\n",
    "# Add the py4j to the path.\n",
    "# You may need to change the version number to match your install\n",
    "sys.path.insert(0, os.path.join(spark_home, 'python/lib/py4j-0.8.2.1-src.zip'))\n",
    "\n",
    "# Initialize PySpark to predefine the SparkContext variable 'sc'\n",
    "#with open(os.path.join(spark_home, 'python/pyspark/shell.py')) as f:\n",
    "#    code = f.read()\n",
    "#    exec(code)#, global_vars, local_vars)"
   ]
  },
  {
   "cell_type": "code",
   "execution_count": 2,
   "metadata": {
    "collapsed": false
   },
   "outputs": [],
   "source": [
    "from pyspark.context import SparkContext\n",
    "from pyspark.sql import SQLContext\n",
    "from pyspark import SparkConf\n",
    "\n",
    "import sqlite3\n",
    "import pandas as pd\n",
    "from sqlalchemy import create_engine\n",
    "\n",
    "import sys\n",
    "\n",
    "def printUsage():\n",
    "    print(\"\"\"\n",
    "    cbRecommender.py <full/path/to/artist_similarity.db>\n",
    "                     <path/to/lastfmJSON/in/hdfs (no hdfs://)>\n",
    "                     <path/to/track_metadata.db>\n",
    "                     <path/to/echonest_analysis_data.csv>\n",
    "    \"\"\")\n",
    "\n",
    "\n",
    "######### Global variabls ######### (gross)\n",
    "# The following variables are broadcast to the spark\n",
    "# cluster and can be used in the functions below\n",
    "songTable = 'song_data'\n",
    "s_conf = (SparkConf()\n",
    "    .setMaster('local[*]')\n",
    "    .setAppName('content_rec')\n",
    "    .set(\"spark.executor.memory\", \"16g\"))\n",
    "sc = SparkContext()\n",
    "sqlContext = SQLContext(sc)\n",
    "\n"
   ]
  },
  {
   "cell_type": "code",
   "execution_count": 3,
   "metadata": {
    "collapsed": false
   },
   "outputs": [],
   "source": [
    "\n",
    "### Set up database connections for metadata and similar artists\n",
    "### This is starting to get really ugly.\n",
    "### broadcasting this data is probably not a good idea\n",
    "artist_engine = create_engine('sqlite:///' + \"./data/artist_similarity.db\")\n",
    "sims = pd.read_sql_query(\n",
    "    'SELECT * FROM similarity', artist_engine)\n",
    "# broadcsasting these variables is probably a bad idea since \n",
    "# they ar quite big\n",
    "similars = sc.broadcast(sims.similar)\n",
    "similar_groups = sc.broadcast(sims.groupby('target').groups)\n",
    "\n",
    "tagFile = open('lastfm_unique_tags.txt', 'r')\n",
    "# make tag dictionary available across the cluster.\n",
    "tags = [tagstr[0] for tagstr in map(lambda ts: ts.split('\\t'),\n",
    "                                    [next(tagFile) for x in range(500)])]\n",
    "tagDictionary = sc.broadcast(tags)\n",
    "tagFile.close()\n",
    "\n",
    "######## Functions for feature extraction #########\n",
    "\n",
    "# make a \"vector\" with indices corresoinding to values in \n",
    "# tagDictionary\n",
    "def getTagVector(track):\n",
    "    return {tagDictionary.value[tag]:1 for [tag, f] in track.tags\n",
    "            if tag in tagDictionary.value}\n",
    "\n",
    "# Actually... it isn't really necessary to represent the tags as a vector...\n",
    "# we can use sets\n",
    "def getTagSet(track):\n",
    "    return {'track_id':track.track_id,\n",
    "            'track_tags':[tag for [tag, f] in track.tags\n",
    "                          if tag in tagDictionary.value]}\n",
    "\n",
    "def getArtistID(track):\n",
    "    return track.artist_id\n",
    "\n",
    "# use the similar artists db to make a similar artists vector\n",
    "# the set this returns is not integers, it is the actual artist_ids.\n",
    "def getSimilarArtistsSet(track):\n",
    "    artist_id = getArtistID(track)\n",
    "    # if no similars are defined then return an empty list\n",
    "    sims = similar_groups.value.get(artist_id, [])\n",
    "    sim_ids = map(lambda r: similars.value[r], sims) + [artist_id]\n",
    "    return {'track_id':track.track_id,\n",
    "            'similar_artists':list(set(sim_ids))}\n",
    "\n",
    "def jaccardSimilarity(setA, setB):\n",
    "    i = len(setA.intersection(setB))\n",
    "    u = len(setA.union(setB))\n",
    "    return i/u\n",
    "\n",
    "# Note, the elements of tags must be distinct from the elements of\n",
    "# artists this works now because artists is a set of strings and tags\n",
    "# is a set of integers.\n",
    "def combineSets(tags, artists):\n",
    "    return tags.union(artists)\n",
    "\n",
    "\n"
   ]
  },
  {
   "cell_type": "code",
   "execution_count": null,
   "metadata": {
    "collapsed": false
   },
   "outputs": [
    {
     "name": "stdout",
     "output_type": "stream",
     "text": [
      "reading json\n",
      "Joining artist with track\n"
     ]
    },
    {
     "data": {
      "text/plain": [
       "DataFrame[artist: string, similars: array<array<string>>, tags: array<array<string>>, timestamp: string, title: string, track_id: string, track_id: string, artist_id: string]"
      ]
     },
     "execution_count": 4,
     "metadata": {},
     "output_type": "execute_result"
    }
   ],
   "source": [
    "    fullJSON   = './data/lastfm_full.json'\n",
    "\n",
    "    metadata_engine = create_engine('sqlite:///'+ \"./track_metadata.db\")\n",
    "    artistIDs = sqlContext.createDataFrame(\n",
    "        pd.read_sql_query('SELECT track_id, artist_id FROM songs',\n",
    "                          metadata_engine))\n",
    "    print(\"reading json\")\n",
    "    trackDF   = sqlContext.read.json(fullJSON)\n",
    "    print(\"Joining artist with track\")\n",
    "    completeDF = trackDF.join(artistIDs, trackDF.track_id == artistIDs.track_id)\n",
    "    # cache the complete dataframe since we will be accessing it twice\n",
    "    completeDF.cache()\n",
    "\n",
    " "
   ]
  },
  {
   "cell_type": "code",
   "execution_count": null,
   "metadata": {
    "collapsed": false
   },
   "outputs": [],
   "source": [
    "tagSets = sqlContext.createDataFrame(completeDF.map(getTagSet))\n",
    "\n"
   ]
  },
  {
   "cell_type": "code",
   "execution_count": null,
   "metadata": {
    "collapsed": false
   },
   "outputs": [],
   "source": [
    "# artistSets = sqlContext.createDataFrame(completeDF.map(getSimilarArtistsSet))\n",
    "\n"
   ]
  },
  {
   "cell_type": "code",
   "execution_count": null,
   "metadata": {
    "collapsed": true
   },
   "outputs": [],
   "source": [
    "\n",
    "    # create and RDD with all track features.\n",
    "    trackFeatures = tagSets.join(artistSets,\n",
    "                                 tagSets.track_id == artistSets.track_id)\n",
    "\n",
    "    echoNest = sqlContext.createDataFrame(pd.read_csv(sys.argv[4]))\n",
    "    allFeatures = trackFeatures.join(echoNest,\n",
    "                                     allFeatures.track_id == echoNest.track_id)\n",
    "    # TODO:\n",
    "    # 1. function that takes a user and constructs a feature set (ie. tag set)\n",
    "    #    from their top N songs (or all songs with a normalized play count above\n",
    "    #    some threshold\n",
    "    #    a. read in the triplets as a pandas DataFrame\n",
    "    # 2. function that finds the most similar songs to a given song vector\n",
    "    \n",
    "    # save the sets so we can use them again...  also just as a test\n",
    "    # to make sure that everything works correctly\n",
    "    #tagsFile = 'hdfs:///users/wfvining/challenge2/tagSets.rdd'\n",
    "    #tagSets.saveAsTextFile(tagsFile)\n",
    "    #artistsFile = 'hdfs:///users/wfvining/challenge2/artistSets.rdd'\n",
    "    #artistSets.saveAsTextFile(artistsFile)\n",
    "\n",
    "\n"
   ]
  }
 ],
 "metadata": {
  "kernelspec": {
   "display_name": "Python 3",
   "language": "python",
   "name": "python3"
  },
  "language_info": {
   "codemirror_mode": {
    "name": "ipython",
    "version": 3
   },
   "file_extension": ".py",
   "mimetype": "text/x-python",
   "name": "python",
   "nbconvert_exporter": "python",
   "pygments_lexer": "ipython3",
   "version": "3.4.3"
  }
 },
 "nbformat": 4,
 "nbformat_minor": 0
}
