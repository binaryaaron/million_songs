{
 "cells": [
  {
   "cell_type": "code",
   "execution_count": 1,
   "metadata": {
    "collapsed": true
   },
   "outputs": [],
   "source": [
    "\n",
    "import SimilarDB\n",
    "import SongIndex\n",
    "import TagDB\n",
    "\n",
    "\n",
    "from scipy.spatial.distance import cosine\n",
    "from scipy.spatial.distance import jaccard\n",
    "import numpy as np\n",
    "\n",
    "import pandas as pd\n",
    "\n",
    "import json\n",
    "import random\n",
    "\n"
   ]
  },
  {
   "cell_type": "code",
   "execution_count": 2,
   "metadata": {
    "collapsed": true
   },
   "outputs": [],
   "source": [
    "datapath = '/home/agonzales/million_songs/data/'\n",
    "\n",
    "songs = SongIndex.SongIndex(datapath)"
   ]
  },
  {
   "cell_type": "code",
   "execution_count": null,
   "metadata": {
    "collapsed": false
   },
   "outputs": [],
   "source": [
    "\n",
    "sims = SimilarDB.SimilarDB(datapath)"
   ]
  },
  {
   "cell_type": "code",
   "execution_count": 14,
   "metadata": {
    "collapsed": false
   },
   "outputs": [],
   "source": [
    "tags = TagDB.TagDB(datapath)"
   ]
  },
  {
   "cell_type": "code",
   "execution_count": 5,
   "metadata": {
    "collapsed": false
   },
   "outputs": [],
   "source": [
    "def load_top_user_tracks(path):\n",
    "    with open(path, 'r') as f:\n",
    "        topsongs = json.load(f)\n",
    "    return {thing['user']: thing['song'] for thing in json.loads(topsongs)}\n",
    "\n"
   ]
  },
  {
   "cell_type": "code",
   "execution_count": null,
   "metadata": {
    "collapsed": true
   },
   "outputs": [],
   "source": []
  },
  {
   "cell_type": "code",
   "execution_count": 6,
   "metadata": {
    "collapsed": false
   },
   "outputs": [],
   "source": [
    "topsong_path = './data/top_two_songs_dict.json'\n",
    "users = load_top_user_tracks(topsong_path)"
   ]
  },
  {
   "cell_type": "code",
   "execution_count": null,
   "metadata": {
    "collapsed": false
   },
   "outputs": [],
   "source": []
  },
  {
   "cell_type": "code",
   "execution_count": 7,
   "metadata": {
    "collapsed": true
   },
   "outputs": [],
   "source": [
    "converter = lambda x: songs.getTrackIDs(x)\n",
    "\n",
    "user_track_ids = lambda x: list(reduce(lambda y, acc: acc.union(y), map(converter, users[x])))"
   ]
  },
  {
   "cell_type": "code",
   "execution_count": null,
   "metadata": {
    "collapsed": true
   },
   "outputs": [],
   "source": [
    "lens = [len(sims.getSimilarsSet(user_track_ids(x))) for x in users.keys()]\n",
    "\n",
    "lens = pd.DataFrame(lens)\n",
    "\n",
    "num_sims = [len(sims.getSimilarsSet(x)) for x in sims.similarsDict.keys()]"
   ]
  },
  {
   "cell_type": "code",
   "execution_count": null,
   "metadata": {
    "collapsed": false
   },
   "outputs": [],
   "source": [
    "%pylab inline\n",
    "pd.DataFrame(num_sims).hist()"
   ]
  },
  {
   "cell_type": "code",
   "execution_count": null,
   "metadata": {
    "collapsed": true
   },
   "outputs": [],
   "source": []
  },
  {
   "cell_type": "code",
   "execution_count": 8,
   "metadata": {
    "collapsed": false
   },
   "outputs": [],
   "source": [
    "cat_features = [\"key\", \"mode\", \"time_signature\"]\n",
    "cont_features = ['artist_familiarity',\n",
    "                'artist_hotttnesss',\n",
    "                \"loudness\",\n",
    "                \"tempo\",\n",
    "                \"duration\"]"
   ]
  },
  {
   "cell_type": "code",
   "execution_count": null,
   "metadata": {
    "collapsed": false
   },
   "outputs": [],
   "source": []
  },
  {
   "cell_type": "code",
   "execution_count": 9,
   "metadata": {
    "collapsed": true
   },
   "outputs": [],
   "source": [
    "get_single_tid = lambda x: list(songs.getTrackIDs(x))[0] if x != None else None\n",
    "\n",
    "scaler = lambda x: (x - x.mean()) / x.std()\n",
    "\n",
    "\n",
    "\n",
    "def get_analysis_data(path):\n",
    "    df = pd.read_csv(path)\n",
    "    df.drop(\"Unnamed: 0\", axis=1, inplace=True)\n",
    "    if cat_features:\n",
    "        for c in cat_features:\n",
    "            df[c] = df[c].astype('category')\n",
    "    else: \n",
    "        print(\"no categorical features found\")\n",
    "    catdf = pd.get_dummies(df[cat_features])\n",
    "    catdf['track_id'] = df['track_id']\n",
    "    for cont in cont_features:\n",
    "        df[cont] = scaler(df[cont])\n",
    "    \n",
    "    return df, catdf\n",
    "\n",
    "\n",
    "\n",
    "\n",
    "\"\"\"def get_track_vector(trackid):\n",
    "    cat_feats = catdf[catdf['track_id'] == trackid].drop('track_id', axis=1)\n",
    "    \n",
    "    cont_features = df[df['track_id'] == trackid][contfeatures]\n",
    "    _tags = tags.getTagVector(trackid)\n",
    "    tv = np.zeros(500)\n",
    "    tv[_tags] = 1\n",
    "    # ugly as sin\n",
    "    return cont_features, np.append(cat_feats, tv)\n",
    "\"\"\"\n",
    "\n",
    "def make_track_vector(trackid):\n",
    "    _trackcont = track_meta[trackid]\n",
    "    _trackcats = track_cats[trackid]\n",
    "    \n",
    "    _cont_features = [_trackcont[feature] for feature in cont_features]\n",
    "    _cat_features = [_trackcats[feature] for feature in cat_feat_dummy_names]\n",
    "    _tags = tags.getTagVector(trackid)\n",
    "    tv = np.zeros(500)\n",
    "    tv[_tags] = 1\n",
    "    # ugly as sin\n",
    "    return _cont_features, np.append(_cat_features, tv)\n",
    "\n",
    "\n",
    "def get_track_vector(trackid):\n",
    "        _trackcont, _trackcats  = track_vectors[trackid]\n",
    "        return _trackcont, _trackcats\n",
    "\n",
    "def get_cf_songs(path):\n",
    "    cf_rec_songs_columns = [\"user_id\", \"song_id\", \"conf\"]\n",
    "    cf_rec_songs = pd.read_csv(path, header=None)\n",
    "    cf_rec_songs.columns = cf_rec_songs_columns\n",
    "    cf_rec_songs.loc[cf_rec_songs.song_id == \"null\", [\"song_id\", \"conf\"]] = None\n",
    "   \n",
    "    # cf_rec_songs.loc[cf_rec_songs.song_id == \"null\", \"song_id\"] = None\n",
    "    # cf_rec_songs.loc[cf_rec_songs.song_id == None, \"conf\"] = None\n",
    "    \n",
    "    cf_rec_songs.conf = cf_rec_songs.conf.astype(\"float32\")\n",
    "    cf_rec_songs['track_id'] = cf_rec_songs.song_id.apply(get_single_tid)\n",
    "    return cf_rec_songs\n",
    "\n",
    "\n",
    "\n",
    "def track_similarity(t1, t2):\n",
    "    t1_cont, t1_cat = get_track_vector(t1)\n",
    "    t2_cont, t2_cat = get_track_vector(t2)\n",
    "    jsim = jac_sim(t1_cat, t2_cat)\n",
    "    csim = cos_sim(t1_cont, t2_cont)\n",
    "    \n",
    "    sim = (jsim + csim) / 2\n",
    "    return sim\n",
    "    \n",
    "\n",
    "jac_sim = lambda x, y: 1 - jaccard(x, y)\n",
    "cos_sim = lambda x, y: abs(cosine(x, y) - 1)"
   ]
  },
  {
   "cell_type": "code",
   "execution_count": 10,
   "metadata": {
    "collapsed": false
   },
   "outputs": [],
   "source": [
    "df, catdf = get_analysis_data('./data/track_metadata_and_analysis.csv')"
   ]
  },
  {
   "cell_type": "code",
   "execution_count": 11,
   "metadata": {
    "collapsed": false
   },
   "outputs": [],
   "source": [
    "cat_feat_dummy_names = catdf.columns[:-1]"
   ]
  },
  {
   "cell_type": "code",
   "execution_count": 12,
   "metadata": {
    "collapsed": false
   },
   "outputs": [],
   "source": [
    "track_meta = {t['track_id']: {k: v for k, v in t.items() if k != 'track_id'}  \n",
    "              for t in df.to_dict(orient='records')}\n",
    "\n",
    "track_cats = {t['track_id']: {k: v for k, v in t.items() if k != 'track_id'}  \n",
    "              for t in catdf.to_dict(orient='records')}"
   ]
  },
  {
   "cell_type": "code",
   "execution_count": 15,
   "metadata": {
    "collapsed": false
   },
   "outputs": [],
   "source": [
    "track_vectors = {tid: make_track_vector(tid) for tid in songs.trackIndex.keys() }"
   ]
  },
  {
   "cell_type": "code",
   "execution_count": 16,
   "metadata": {
    "collapsed": false
   },
   "outputs": [
    {
     "name": "stdout",
     "output_type": "stream",
     "text": [
      "CPU times: user 52 ms, sys: 8 ms, total: 60 ms\n",
      "Wall time: 56.8 ms\n"
     ]
    },
    {
     "data": {
      "text/plain": [
       "0.15141197896764957"
      ]
     },
     "execution_count": 16,
     "metadata": {},
     "output_type": "execute_result"
    }
   ],
   "source": [
    "%%time\n",
    "track_similarity(df.track_id[10], df.track_id[100])"
   ]
  },
  {
   "cell_type": "code",
   "execution_count": 17,
   "metadata": {
    "collapsed": false
   },
   "outputs": [],
   "source": [
    "\n",
    "cf_rec_songs = get_cf_songs(\"./data/NextSong_Triplets.csv\")"
   ]
  },
  {
   "cell_type": "code",
   "execution_count": 18,
   "metadata": {
    "collapsed": false
   },
   "outputs": [],
   "source": [
    "cutoff = cf_rec_songs.conf.describe()[6]"
   ]
  },
  {
   "cell_type": "code",
   "execution_count": 19,
   "metadata": {
    "collapsed": false
   },
   "outputs": [
    {
     "data": {
      "text/html": [
       "<div>\n",
       "<table border=\"1\" class=\"dataframe\">\n",
       "  <thead>\n",
       "    <tr style=\"text-align: right;\">\n",
       "      <th></th>\n",
       "      <th>user_id</th>\n",
       "      <th>song_id</th>\n",
       "      <th>conf</th>\n",
       "      <th>track_id</th>\n",
       "    </tr>\n",
       "  </thead>\n",
       "  <tbody>\n",
       "    <tr>\n",
       "      <th>0</th>\n",
       "      <td>27b3ada29b6fbc58cc0be1beeee5c161490525ba</td>\n",
       "      <td>SOAUWYT12A81C206F1</td>\n",
       "      <td>0.138705</td>\n",
       "      <td>TRGXQES128F42BA5EB</td>\n",
       "    </tr>\n",
       "    <tr>\n",
       "      <th>1</th>\n",
       "      <td>6a8e16ac4eaa5ee1728e1b60922999b270c17fdf</td>\n",
       "      <td>SOOHWRZ12AC468BA59</td>\n",
       "      <td>0.074418</td>\n",
       "      <td>TROYOZD12903CEE24F</td>\n",
       "    </tr>\n",
       "    <tr>\n",
       "      <th>2</th>\n",
       "      <td>6ed926e5e561ddbbe64e2035a6c7d0ee5577e14c</td>\n",
       "      <td>SOPPROJ12AB0184E18</td>\n",
       "      <td>0.049008</td>\n",
       "      <td>TRDFZTB12903CF1CBD</td>\n",
       "    </tr>\n",
       "    <tr>\n",
       "      <th>3</th>\n",
       "      <td>ca0925c9fdcbf37a01f1a78b68cee569d1bf7022</td>\n",
       "      <td>None</td>\n",
       "      <td>NaN</td>\n",
       "      <td>None</td>\n",
       "    </tr>\n",
       "    <tr>\n",
       "      <th>4</th>\n",
       "      <td>01af5e2e5171efb50f0ddecfd7b89fc9cf0adb21</td>\n",
       "      <td>SOEOPHK12A58A78ECF</td>\n",
       "      <td>0.056607</td>\n",
       "      <td>TRVJJWW12903CE67AA</td>\n",
       "    </tr>\n",
       "  </tbody>\n",
       "</table>\n",
       "</div>"
      ],
      "text/plain": [
       "                                    user_id             song_id      conf  \\\n",
       "0  27b3ada29b6fbc58cc0be1beeee5c161490525ba  SOAUWYT12A81C206F1  0.138705   \n",
       "1  6a8e16ac4eaa5ee1728e1b60922999b270c17fdf  SOOHWRZ12AC468BA59  0.074418   \n",
       "2  6ed926e5e561ddbbe64e2035a6c7d0ee5577e14c  SOPPROJ12AB0184E18  0.049008   \n",
       "3  ca0925c9fdcbf37a01f1a78b68cee569d1bf7022                None       NaN   \n",
       "4  01af5e2e5171efb50f0ddecfd7b89fc9cf0adb21  SOEOPHK12A58A78ECF  0.056607   \n",
       "\n",
       "             track_id  \n",
       "0  TRGXQES128F42BA5EB  \n",
       "1  TROYOZD12903CEE24F  \n",
       "2  TRDFZTB12903CF1CBD  \n",
       "3                None  \n",
       "4  TRVJJWW12903CE67AA  "
      ]
     },
     "execution_count": 19,
     "metadata": {},
     "output_type": "execute_result"
    }
   ],
   "source": [
    "cf_rec_songs.head()"
   ]
  },
  {
   "cell_type": "code",
   "execution_count": 66,
   "metadata": {
    "collapsed": false
   },
   "outputs": [],
   "source": [
    "def get_popular_songs():\n",
    "\n",
    "    ps = pd.read_csv('./data/train_triplets.txt', sep='\\t', header=None)\n",
    "    ps.columns = ['user_id', 'song_id', 'play_count']\n",
    "    ps['track_id'] = ps.song_id.apply(get_single_tid)\n",
    "    gb = ps.groupby(\"track_id\").sum()\n",
    "    \n",
    "    pop_songs =  gb.sort_values('play_count', ascending=False).head(10)\n",
    "    return list(pop_songs.reset_index().track_id)\n",
    "\n",
    "\n",
    "\n",
    "p_song_len = len(p_songs)\n",
    "\n",
    "def get_pop_song():\n",
    "    return p_songs[random.randint(0, p_song_len-1)]\n",
    "\n",
    "\n",
    "# def get_popular_song():\n",
    "#    # return list(songs.getTrackIDs(pop_songs.sample()['song_id']))[0]\n",
    "#    return pop_songs.reset_index().sample()['track_id'].values[0]\n",
    "\n",
    "\n",
    "def cb_rec(user_id, rec_song, conf):\n",
    "    user_top_tracks = user_track_ids(user_id)\n",
    "\n",
    "    # if the CF didn't recommend a song - return a random popular song\n",
    "    if rec_song is None:\n",
    "        # print(\"null song!\")\n",
    "        return get_popular_song()\n",
    "        \n",
    "    if conf > cutoff:\n",
    "        return rec_song\n",
    "    \n",
    "    sim_song_list = list(sims.getSimilarsSet(user_top_tracks))\n",
    "    \n",
    "    song_similarites = np.array([track_similarity(rec_song, song) \n",
    "                                 for song in sim_song_list])\n",
    "    if song_similarites.shape[0] == 0:\n",
    "        return get_popular_song()\n",
    "    argmax = song_similarites.argmax()\n",
    "    return sim_song_list[argmax]\n",
    "    \n",
    "    "
   ]
  },
  {
   "cell_type": "code",
   "execution_count": null,
   "metadata": {
    "collapsed": true
   },
   "outputs": [],
   "source": []
  },
  {
   "cell_type": "code",
   "execution_count": 45,
   "metadata": {
    "collapsed": true
   },
   "outputs": [],
   "source": [
    "p_songs = get_popular_songs()"
   ]
  },
  {
   "cell_type": "code",
   "execution_count": 30,
   "metadata": {
    "collapsed": true
   },
   "outputs": [],
   "source": []
  },
  {
   "cell_type": "code",
   "execution_count": 61,
   "metadata": {
    "collapsed": false
   },
   "outputs": [
    {
     "name": "stdout",
     "output_type": "stream",
     "text": [
      "The slowest run took 7.81 times longer than the fastest. This could mean that an intermediate result is being cached \n",
      "1000000 loops, best of 3: 1.28 µs per loop\n"
     ]
    }
   ],
   "source": [
    "%%timeit\n",
    "get_pop_song()"
   ]
  },
  {
   "cell_type": "code",
   "execution_count": 49,
   "metadata": {
    "collapsed": false
   },
   "outputs": [
    {
     "name": "stdout",
     "output_type": "stream",
     "text": [
      "CPU times: user 0 ns, sys: 0 ns, total: 0 ns\n",
      "Wall time: 8.11 µs\n"
     ]
    }
   ],
   "source": [
    "%%time\n",
    "# final_recs = [cb_rec(user, tid) for user, tid in zip(cf_rec_songs.user_id, cf_rec_songs.track_id)]"
   ]
  },
  {
   "cell_type": "code",
   "execution_count": 24,
   "metadata": {
    "collapsed": false
   },
   "outputs": [],
   "source": [
    "# len(final_recs)"
   ]
  },
  {
   "cell_type": "code",
   "execution_count": 25,
   "metadata": {
    "collapsed": false
   },
   "outputs": [],
   "source": [
    "cf_rec_songs['cbrec'] = pd.read_csv('./data/content_based_reccomendations.csv').cbrec"
   ]
  },
  {
   "cell_type": "code",
   "execution_count": null,
   "metadata": {
    "collapsed": true
   },
   "outputs": [],
   "source": [
    "# weighted sum of normed play counts / n\n",
    "# weight is sim of predicted song -> each of top n user songs\n"
   ]
  },
  {
   "cell_type": "code",
   "execution_count": 243,
   "metadata": {
    "collapsed": false
   },
   "outputs": [],
   "source": [
    "df = pd.read_csv(\"./data/train_triplets.txt\", sep=\"\\t\", header=None)\n",
    "\n",
    "df.columns = [\"user\", \"song_id\", \"play_count\"]\n",
    "\n",
    "pc = df.groupby(\"user\").sum()\n",
    "\n",
    "pc.columns = [\"play_sum\"]\n",
    "\n",
    "\n",
    "df_normed = pd.merge(df, pc.reset_index())\n",
    "\n",
    "df_normed['pc_norm'] = df_normed.play_count / df_normed.play_sum\n",
    "\n",
    "top_ten = pd.read_csv(\"./data/top_ten_tracks_per_user.csv\")\n",
    "\n",
    "top_ten_normed = pd.merge(top_ten, pc.reset_index())\n",
    "\n",
    "top_ten_normed['pc_normed'] = top_ten_normed.play_count / top_ten_normed.play_sum\n",
    "top_ten_normed['track_id'] = top_ten_normed.song.apply(get_single_tid)\n",
    "\n"
   ]
  },
  {
   "cell_type": "code",
   "execution_count": 233,
   "metadata": {
    "collapsed": false
   },
   "outputs": [],
   "source": [
    "top_ten = []\n",
    "df = []\n",
    "df_normed = []"
   ]
  },
  {
   "cell_type": "code",
   "execution_count": 65,
   "metadata": {
    "collapsed": false
   },
   "outputs": [],
   "source": [
    "tracks = pd.DataFrame(top_ten_normed.groupby(\"user\")[\"track_id\"].apply(list)).reset_index()\n",
    "\n",
    "norms = pd.DataFrame(top_ten_normed.groupby(\"user\")[\"pc_normed\"].apply(list)).reset_index()\n",
    "\n",
    "track_norms = zip(tracks.track_id, norms.pc_normed)\n",
    "\n",
    "get_track_norm = lambda x, y: (track_norms[x][0][y], track_norms[x][1][y])\n",
    "\n",
    "get_user_track = lambda x: track_norms[x]"
   ]
  },
  {
   "cell_type": "code",
   "execution_count": 232,
   "metadata": {
    "collapsed": true
   },
   "outputs": [],
   "source": [
    "user_ids = list(top_ten_normed.user.unique())\n",
    "\n",
    "\n",
    "\n",
    "rec_song_dict = {user: rec if rec is None else get_pop_song()\n",
    "                 for user, rec in zip(cf_rec_songs.user_id, cf_rec_songs.cbrec)}\n",
    "\n",
    "\n",
    "for user in user_ids:\n",
    "    s = rec_song_dict.get(user, None)\n",
    "    if s is None:\n",
    "        rec_song_dict[user] = get_pop_song()\n",
    "\n",
    "\n",
    "def get_rec_song(uid):\n",
    "    # pop_song = get_popular_song()\n",
    "    # s = rec_song_dict.get(uid, None)\n",
    "    #if s is None:\n",
    "    #    return get_popular_song()\n",
    "    return rec_song_dict[uid]\n",
    "\n",
    "def get_predicted_playcount(uid_idx, rec_song):\n",
    "    ut = get_user_track(uid_idx)\n",
    "    \n",
    "    pred_playcount = 0\n",
    "    for song, pc_norm in zip(ut[0], ut[1]):\n",
    "        pred_playcount += pc_norm * track_similarity(song, rec_song)\n",
    "    \n",
    "    return pred_playcount / float(len(ut[0]))\n",
    "    \n",
    "\n",
    "def run_pred_playcount(idx):\n",
    "    uid = user_ids[idx]\n",
    "    rec_song = get_rec_song(uid)\n",
    "    return get_predicted_playcount(idx, rec_song)\n",
    "\n"
   ]
  },
  {
   "cell_type": "code",
   "execution_count": null,
   "metadata": {
    "collapsed": false
   },
   "outputs": [],
   "source": []
  },
  {
   "cell_type": "code",
   "execution_count": 72,
   "metadata": {
    "collapsed": false
   },
   "outputs": [
    {
     "name": "stdout",
     "output_type": "stream",
     "text": [
      "The slowest run took 19.05 times longer than the fastest. This could mean that an intermediate result is being cached \n",
      "10000000 loops, best of 3: 163 ns per loop\n"
     ]
    }
   ],
   "source": [
    "%%timeit\n",
    "get_rec_song('01af5e2e5171efb50f0ddecfd7b89fc9cf0adb21')"
   ]
  },
  {
   "cell_type": "code",
   "execution_count": null,
   "metadata": {
    "collapsed": false
   },
   "outputs": [],
   "source": [
    "%%time\n",
    "run_pred_playcount(10000)"
   ]
  },
  {
   "cell_type": "code",
   "execution_count": null,
   "metadata": {
    "collapsed": true
   },
   "outputs": [],
   "source": []
  },
  {
   "cell_type": "code",
   "execution_count": 234,
   "metadata": {
    "collapsed": false
   },
   "outputs": [],
   "source": [
    "import multiprocessing as mp\n",
    "pool = mp.Pool(8)\n",
    "\n"
   ]
  },
  {
   "cell_type": "code",
   "execution_count": 235,
   "metadata": {
    "collapsed": false
   },
   "outputs": [
    {
     "name": "stdout",
     "output_type": "stream",
     "text": [
      "CPU times: user 856 ms, sys: 124 ms, total: 980 ms\n",
      "Wall time: 1min 44s\n"
     ]
    }
   ],
   "source": [
    "%%time\n",
    "res = pool.map(run_pred_playcount, range(len(user_ids)))\n",
    "pool.close()\n",
    "pool.join()"
   ]
  },
  {
   "cell_type": "code",
   "execution_count": 236,
   "metadata": {
    "collapsed": true
   },
   "outputs": [],
   "source": [
    "evals = pd.DataFrame(res)\n",
    "evals.columns = [\"pred_norm\"]\n",
    "\n",
    "evals[\"user_id\"] = user_ids"
   ]
  },
  {
   "cell_type": "code",
   "execution_count": 78,
   "metadata": {
    "collapsed": false
   },
   "outputs": [
    {
     "name": "stdout",
     "output_type": "stream",
     "text": [
      "Populating the interactive namespace from numpy and matplotlib\n"
     ]
    },
    {
     "name": "stderr",
     "output_type": "stream",
     "text": [
      "WARNING: pylab import has clobbered these variables: ['random']\n",
      "`%matplotlib` prevents importing * from pylab and numpy\n"
     ]
    }
   ],
   "source": [
    "%pylab inline"
   ]
  },
  {
   "cell_type": "code",
   "execution_count": 237,
   "metadata": {
    "collapsed": false
   },
   "outputs": [
    {
     "data": {
      "text/plain": [
       "array([[<matplotlib.axes._subplots.AxesSubplot object at 0x7fe03747bf50>]], dtype=object)"
      ]
     },
     "execution_count": 237,
     "metadata": {},
     "output_type": "execute_result"
    },
    {
     "data": {
      "image/png": "[encoded data removed]",
      "text/plain": [
       "<matplotlib.figure.Figure at 0x7fe032a0f890>"
      ]
     },
     "metadata": {},
     "output_type": "display_data"
    }
   ],
   "source": [
    "evals.hist(bins=50)"
   ]
  },
  {
   "cell_type": "code",
   "execution_count": 81,
   "metadata": {
    "collapsed": false
   },
   "outputs": [
    {
     "data": {
      "text/plain": [
       "(412067, 5)"
      ]
     },
     "execution_count": 81,
     "metadata": {},
     "output_type": "execute_result"
    }
   ],
   "source": [
    "cf_rec_songs.shape"
   ]
  },
  {
   "cell_type": "code",
   "execution_count": 98,
   "metadata": {
    "collapsed": false
   },
   "outputs": [
    {
     "data": {
      "text/plain": [
       "(1019318, 2)"
      ]
     },
     "execution_count": 98,
     "metadata": {},
     "output_type": "execute_result"
    }
   ],
   "source": [
    "evals.shape"
   ]
  },
  {
   "cell_type": "code",
   "execution_count": null,
   "metadata": {
    "collapsed": false
   },
   "outputs": [],
   "source": []
  },
  {
   "cell_type": "code",
   "execution_count": 99,
   "metadata": {
    "collapsed": false
   },
   "outputs": [
    {
     "data": {
      "text/html": [
       "<div>\n",
       "<table border=\"1\" class=\"dataframe\">\n",
       "  <thead>\n",
       "    <tr style=\"text-align: right;\">\n",
       "      <th></th>\n",
       "      <th>user_id</th>\n",
       "      <th>song_id</th>\n",
       "      <th>conf</th>\n",
       "      <th>track_id</th>\n",
       "      <th>cbrec</th>\n",
       "    </tr>\n",
       "  </thead>\n",
       "  <tbody>\n",
       "    <tr>\n",
       "      <th>0</th>\n",
       "      <td>27b3ada29b6fbc58cc0be1beeee5c161490525ba</td>\n",
       "      <td>SOAUWYT12A81C206F1</td>\n",
       "      <td>0.138705</td>\n",
       "      <td>TRGXQES128F42BA5EB</td>\n",
       "      <td>TRTBIEH128F427C13C</td>\n",
       "    </tr>\n",
       "    <tr>\n",
       "      <th>1</th>\n",
       "      <td>6a8e16ac4eaa5ee1728e1b60922999b270c17fdf</td>\n",
       "      <td>SOOHWRZ12AC468BA59</td>\n",
       "      <td>0.074418</td>\n",
       "      <td>TROYOZD12903CEE24F</td>\n",
       "      <td>TRAMNJB128F92EFDC7</td>\n",
       "    </tr>\n",
       "    <tr>\n",
       "      <th>2</th>\n",
       "      <td>6ed926e5e561ddbbe64e2035a6c7d0ee5577e14c</td>\n",
       "      <td>SOPPROJ12AB0184E18</td>\n",
       "      <td>0.049008</td>\n",
       "      <td>TRDFZTB12903CF1CBD</td>\n",
       "      <td>TRLGMFJ128F4217DBE</td>\n",
       "    </tr>\n",
       "    <tr>\n",
       "      <th>3</th>\n",
       "      <td>ca0925c9fdcbf37a01f1a78b68cee569d1bf7022</td>\n",
       "      <td>None</td>\n",
       "      <td>NaN</td>\n",
       "      <td>None</td>\n",
       "      <td>TRHKJNX12903CEFCDF</td>\n",
       "    </tr>\n",
       "    <tr>\n",
       "      <th>4</th>\n",
       "      <td>01af5e2e5171efb50f0ddecfd7b89fc9cf0adb21</td>\n",
       "      <td>SOEOPHK12A58A78ECF</td>\n",
       "      <td>0.056607</td>\n",
       "      <td>TRVJJWW12903CE67AA</td>\n",
       "      <td>TRXCWFL128F9325F6F</td>\n",
       "    </tr>\n",
       "  </tbody>\n",
       "</table>\n",
       "</div>"
      ],
      "text/plain": [
       "                                    user_id             song_id      conf  \\\n",
       "0  27b3ada29b6fbc58cc0be1beeee5c161490525ba  SOAUWYT12A81C206F1  0.138705   \n",
       "1  6a8e16ac4eaa5ee1728e1b60922999b270c17fdf  SOOHWRZ12AC468BA59  0.074418   \n",
       "2  6ed926e5e561ddbbe64e2035a6c7d0ee5577e14c  SOPPROJ12AB0184E18  0.049008   \n",
       "3  ca0925c9fdcbf37a01f1a78b68cee569d1bf7022                None       NaN   \n",
       "4  01af5e2e5171efb50f0ddecfd7b89fc9cf0adb21  SOEOPHK12A58A78ECF  0.056607   \n",
       "\n",
       "             track_id               cbrec  \n",
       "0  TRGXQES128F42BA5EB  TRTBIEH128F427C13C  \n",
       "1  TROYOZD12903CEE24F  TRAMNJB128F92EFDC7  \n",
       "2  TRDFZTB12903CF1CBD  TRLGMFJ128F4217DBE  \n",
       "3                None  TRHKJNX12903CEFCDF  \n",
       "4  TRVJJWW12903CE67AA  TRXCWFL128F9325F6F  "
      ]
     },
     "execution_count": 99,
     "metadata": {},
     "output_type": "execute_result"
    }
   ],
   "source": [
    "cf_rec_songs.head()"
   ]
  },
  {
   "cell_type": "code",
   "execution_count": 129,
   "metadata": {
    "collapsed": false
   },
   "outputs": [],
   "source": [
    "cb_rec_track_dict = {k: v for k, v in zip(cf_rec_songs.user_id, cf_rec_songs.cbrec)}"
   ]
  },
  {
   "cell_type": "code",
   "execution_count": 238,
   "metadata": {
    "collapsed": false
   },
   "outputs": [],
   "source": [
    "evals['track_id'] = evals.user_id.apply(lambda x: cb_rec_track_dict.get(x, None))"
   ]
  },
  {
   "cell_type": "code",
   "execution_count": 239,
   "metadata": {
    "collapsed": false
   },
   "outputs": [],
   "source": [
    "# clean the final predictions \n",
    "df = pd.merge(cf_rec_songs, evals, on=\"user_id\")\n",
    "\n",
    "df.drop([\"track_id_y\", \"song_id\"], axis=1, inplace=True)\n",
    "\n",
    "df['final_pred'] = df['conf']\n",
    "\n",
    "df.loc[df.conf < 0.1, 'final_pred'] = df.loc[df.conf < 0.1, \"pred_norm\"]\n",
    "\n",
    "df.loc[(df.pred_norm > df.conf) & (df.conf < 0.1), \"final_pred\"] = df.loc[(df.pred_norm > df.conf) & (df.conf < 0.1), \"pred_norm\"]\n",
    "\n",
    "df.loc[df.conf.isnull(), \"final_pred\"] = df.loc[df.conf.isnull(), \"pred_norm\"]"
   ]
  },
  {
   "cell_type": "code",
   "execution_count": 240,
   "metadata": {
    "collapsed": false
   },
   "outputs": [],
   "source": [
    "df['final_tid'] = df.track_id_x\n",
    "\n",
    "df.loc[df.conf < 0.1, 'final_tid'] = df.loc[df.conf < 0.1, \"cbrec\"]\n",
    "\n",
    "df.loc[(df.pred_norm > df.conf) & (df.conf < 0.1), \"final_tid\"] = df.loc[(df.pred_norm > df.conf) & (df.conf < 0.1), \"cbrec\"]\n",
    "\n",
    "df.loc[df.conf.isnull(), \"final_tid\"] = df.loc[df.conf.isnull(), \"cbrec\"]\n",
    "\n",
    "final = df"
   ]
  },
  {
   "cell_type": "code",
   "execution_count": 241,
   "metadata": {
    "collapsed": false
   },
   "outputs": [
    {
     "data": {
      "text/html": [
       "<div>\n",
       "<table border=\"1\" class=\"dataframe\">\n",
       "  <thead>\n",
       "    <tr style=\"text-align: right;\">\n",
       "      <th></th>\n",
       "      <th>user_id</th>\n",
       "      <th>conf</th>\n",
       "      <th>track_id_x</th>\n",
       "      <th>cbrec</th>\n",
       "      <th>pred_norm</th>\n",
       "      <th>final_pred</th>\n",
       "      <th>final_tid</th>\n",
       "    </tr>\n",
       "  </thead>\n",
       "  <tbody>\n",
       "    <tr>\n",
       "      <th>0</th>\n",
       "      <td>27b3ada29b6fbc58cc0be1beeee5c161490525ba</td>\n",
       "      <td>0.138705</td>\n",
       "      <td>TRGXQES128F42BA5EB</td>\n",
       "      <td>TRTBIEH128F427C13C</td>\n",
       "      <td>0.022759</td>\n",
       "      <td>0.138705</td>\n",
       "      <td>TRGXQES128F42BA5EB</td>\n",
       "    </tr>\n",
       "    <tr>\n",
       "      <th>1</th>\n",
       "      <td>6a8e16ac4eaa5ee1728e1b60922999b270c17fdf</td>\n",
       "      <td>0.074418</td>\n",
       "      <td>TROYOZD12903CEE24F</td>\n",
       "      <td>TRAMNJB128F92EFDC7</td>\n",
       "      <td>0.021551</td>\n",
       "      <td>0.021551</td>\n",
       "      <td>TRAMNJB128F92EFDC7</td>\n",
       "    </tr>\n",
       "    <tr>\n",
       "      <th>2</th>\n",
       "      <td>6ed926e5e561ddbbe64e2035a6c7d0ee5577e14c</td>\n",
       "      <td>0.049008</td>\n",
       "      <td>TRDFZTB12903CF1CBD</td>\n",
       "      <td>TRLGMFJ128F4217DBE</td>\n",
       "      <td>0.027616</td>\n",
       "      <td>0.027616</td>\n",
       "      <td>TRLGMFJ128F4217DBE</td>\n",
       "    </tr>\n",
       "    <tr>\n",
       "      <th>3</th>\n",
       "      <td>ca0925c9fdcbf37a01f1a78b68cee569d1bf7022</td>\n",
       "      <td>NaN</td>\n",
       "      <td>None</td>\n",
       "      <td>TRHKJNX12903CEFCDF</td>\n",
       "      <td>0.038102</td>\n",
       "      <td>0.038102</td>\n",
       "      <td>TRHKJNX12903CEFCDF</td>\n",
       "    </tr>\n",
       "    <tr>\n",
       "      <th>4</th>\n",
       "      <td>01af5e2e5171efb50f0ddecfd7b89fc9cf0adb21</td>\n",
       "      <td>0.056607</td>\n",
       "      <td>TRVJJWW12903CE67AA</td>\n",
       "      <td>TRXCWFL128F9325F6F</td>\n",
       "      <td>0.013804</td>\n",
       "      <td>0.013804</td>\n",
       "      <td>TRXCWFL128F9325F6F</td>\n",
       "    </tr>\n",
       "  </tbody>\n",
       "</table>\n",
       "</div>"
      ],
      "text/plain": [
       "                                    user_id      conf          track_id_x  \\\n",
       "0  27b3ada29b6fbc58cc0be1beeee5c161490525ba  0.138705  TRGXQES128F42BA5EB   \n",
       "1  6a8e16ac4eaa5ee1728e1b60922999b270c17fdf  0.074418  TROYOZD12903CEE24F   \n",
       "2  6ed926e5e561ddbbe64e2035a6c7d0ee5577e14c  0.049008  TRDFZTB12903CF1CBD   \n",
       "3  ca0925c9fdcbf37a01f1a78b68cee569d1bf7022       NaN                None   \n",
       "4  01af5e2e5171efb50f0ddecfd7b89fc9cf0adb21  0.056607  TRVJJWW12903CE67AA   \n",
       "\n",
       "                cbrec  pred_norm  final_pred           final_tid  \n",
       "0  TRTBIEH128F427C13C   0.022759    0.138705  TRGXQES128F42BA5EB  \n",
       "1  TRAMNJB128F92EFDC7   0.021551    0.021551  TRAMNJB128F92EFDC7  \n",
       "2  TRLGMFJ128F4217DBE   0.027616    0.027616  TRLGMFJ128F4217DBE  \n",
       "3  TRHKJNX12903CEFCDF   0.038102    0.038102  TRHKJNX12903CEFCDF  \n",
       "4  TRXCWFL128F9325F6F   0.013804    0.013804  TRXCWFL128F9325F6F  "
      ]
     },
     "execution_count": 241,
     "metadata": {},
     "output_type": "execute_result"
    }
   ],
   "source": [
    "final.head()"
   ]
  },
  {
   "cell_type": "code",
   "execution_count": 244,
   "metadata": {
    "collapsed": false
   },
   "outputs": [],
   "source": [
    "df_normed['track_id'] = df_normed.song_id.apply(get_single_tid)"
   ]
  },
  {
   "cell_type": "code",
   "execution_count": 245,
   "metadata": {
    "collapsed": false
   },
   "outputs": [],
   "source": [
    "df_normed.columns = [\"user_id\", \"song_id\", \"play_count\", \"play_sum\", \"pc_norm\", \"track_id\"]"
   ]
  },
  {
   "cell_type": "code",
   "execution_count": 246,
   "metadata": {
    "collapsed": false
   },
   "outputs": [],
   "source": [
    "final_merge = pd.merge(final, df_normed, \n",
    "                       left_on=[\"user_id\", \"final_tid\"], \n",
    "                       right_on=[\"user_id\", \"track_id\"],\n",
    "                       how=\"left\")"
   ]
  },
  {
   "cell_type": "code",
   "execution_count": 247,
   "metadata": {
    "collapsed": false
   },
   "outputs": [
    {
     "name": "stdout",
     "output_type": "stream",
     "text": [
      "((412067, 7), (48373586, 6))\n"
     ]
    }
   ],
   "source": [
    "print(final.shape, df_normed.shape)"
   ]
  },
  {
   "cell_type": "code",
   "execution_count": 248,
   "metadata": {
    "collapsed": false
   },
   "outputs": [
    {
     "data": {
      "text/html": [
       "<div>\n",
       "<table border=\"1\" class=\"dataframe\">\n",
       "  <thead>\n",
       "    <tr style=\"text-align: right;\">\n",
       "      <th></th>\n",
       "      <th>user_id</th>\n",
       "      <th>conf</th>\n",
       "      <th>track_id_x</th>\n",
       "      <th>cbrec</th>\n",
       "      <th>pred_norm</th>\n",
       "      <th>final_pred</th>\n",
       "      <th>final_tid</th>\n",
       "      <th>song_id</th>\n",
       "      <th>play_count</th>\n",
       "      <th>play_sum</th>\n",
       "      <th>pc_norm</th>\n",
       "      <th>track_id</th>\n",
       "    </tr>\n",
       "  </thead>\n",
       "  <tbody>\n",
       "    <tr>\n",
       "      <th>0</th>\n",
       "      <td>27b3ada29b6fbc58cc0be1beeee5c161490525ba</td>\n",
       "      <td>0.138705</td>\n",
       "      <td>TRGXQES128F42BA5EB</td>\n",
       "      <td>TRTBIEH128F427C13C</td>\n",
       "      <td>0.022759</td>\n",
       "      <td>0.138705</td>\n",
       "      <td>TRGXQES128F42BA5EB</td>\n",
       "      <td>NaN</td>\n",
       "      <td>NaN</td>\n",
       "      <td>NaN</td>\n",
       "      <td>NaN</td>\n",
       "      <td>NaN</td>\n",
       "    </tr>\n",
       "    <tr>\n",
       "      <th>1</th>\n",
       "      <td>6a8e16ac4eaa5ee1728e1b60922999b270c17fdf</td>\n",
       "      <td>0.074418</td>\n",
       "      <td>TROYOZD12903CEE24F</td>\n",
       "      <td>TRAMNJB128F92EFDC7</td>\n",
       "      <td>0.021551</td>\n",
       "      <td>0.021551</td>\n",
       "      <td>TRAMNJB128F92EFDC7</td>\n",
       "      <td>NaN</td>\n",
       "      <td>NaN</td>\n",
       "      <td>NaN</td>\n",
       "      <td>NaN</td>\n",
       "      <td>NaN</td>\n",
       "    </tr>\n",
       "    <tr>\n",
       "      <th>2</th>\n",
       "      <td>6ed926e5e561ddbbe64e2035a6c7d0ee5577e14c</td>\n",
       "      <td>0.049008</td>\n",
       "      <td>TRDFZTB12903CF1CBD</td>\n",
       "      <td>TRLGMFJ128F4217DBE</td>\n",
       "      <td>0.027616</td>\n",
       "      <td>0.027616</td>\n",
       "      <td>TRLGMFJ128F4217DBE</td>\n",
       "      <td>NaN</td>\n",
       "      <td>NaN</td>\n",
       "      <td>NaN</td>\n",
       "      <td>NaN</td>\n",
       "      <td>NaN</td>\n",
       "    </tr>\n",
       "    <tr>\n",
       "      <th>3</th>\n",
       "      <td>ca0925c9fdcbf37a01f1a78b68cee569d1bf7022</td>\n",
       "      <td>NaN</td>\n",
       "      <td>None</td>\n",
       "      <td>TRHKJNX12903CEFCDF</td>\n",
       "      <td>0.038102</td>\n",
       "      <td>0.038102</td>\n",
       "      <td>TRHKJNX12903CEFCDF</td>\n",
       "      <td>NaN</td>\n",
       "      <td>NaN</td>\n",
       "      <td>NaN</td>\n",
       "      <td>NaN</td>\n",
       "      <td>NaN</td>\n",
       "    </tr>\n",
       "    <tr>\n",
       "      <th>4</th>\n",
       "      <td>01af5e2e5171efb50f0ddecfd7b89fc9cf0adb21</td>\n",
       "      <td>0.056607</td>\n",
       "      <td>TRVJJWW12903CE67AA</td>\n",
       "      <td>TRXCWFL128F9325F6F</td>\n",
       "      <td>0.013804</td>\n",
       "      <td>0.013804</td>\n",
       "      <td>TRXCWFL128F9325F6F</td>\n",
       "      <td>NaN</td>\n",
       "      <td>NaN</td>\n",
       "      <td>NaN</td>\n",
       "      <td>NaN</td>\n",
       "      <td>NaN</td>\n",
       "    </tr>\n",
       "    <tr>\n",
       "      <th>5</th>\n",
       "      <td>0ebbc1f2391a69966f029899d0f7929936685fd7</td>\n",
       "      <td>0.051311</td>\n",
       "      <td>TRHSGXW12903CE895F</td>\n",
       "      <td>TRLMZAU128F425045A</td>\n",
       "      <td>0.004063</td>\n",
       "      <td>0.004063</td>\n",
       "      <td>TRLMZAU128F425045A</td>\n",
       "      <td>NaN</td>\n",
       "      <td>NaN</td>\n",
       "      <td>NaN</td>\n",
       "      <td>NaN</td>\n",
       "      <td>NaN</td>\n",
       "    </tr>\n",
       "    <tr>\n",
       "      <th>6</th>\n",
       "      <td>f1e97499ac227a34407038bb55426e262bd3ad70</td>\n",
       "      <td>0.134716</td>\n",
       "      <td>TRDJWWE128F4255A4D</td>\n",
       "      <td>TRSJPWY128F9302565</td>\n",
       "      <td>0.025422</td>\n",
       "      <td>0.134716</td>\n",
       "      <td>TRDJWWE128F4255A4D</td>\n",
       "      <td>NaN</td>\n",
       "      <td>NaN</td>\n",
       "      <td>NaN</td>\n",
       "      <td>NaN</td>\n",
       "      <td>NaN</td>\n",
       "    </tr>\n",
       "    <tr>\n",
       "      <th>7</th>\n",
       "      <td>5786b71658878d3c7ac2200b7f4e628cf8fa80fa</td>\n",
       "      <td>0.093374</td>\n",
       "      <td>TRBKMRO128F935877F</td>\n",
       "      <td>TRHHMLX12903CB503B</td>\n",
       "      <td>0.008078</td>\n",
       "      <td>0.008078</td>\n",
       "      <td>TRHHMLX12903CB503B</td>\n",
       "      <td>NaN</td>\n",
       "      <td>NaN</td>\n",
       "      <td>NaN</td>\n",
       "      <td>NaN</td>\n",
       "      <td>NaN</td>\n",
       "    </tr>\n",
       "    <tr>\n",
       "      <th>8</th>\n",
       "      <td>208e0cc46d08efb53676825dccbb31ed2fb10fa9</td>\n",
       "      <td>0.288701</td>\n",
       "      <td>TRYVFOB128F9333BAA</td>\n",
       "      <td>TRHLRXZ128F149F06B</td>\n",
       "      <td>0.015949</td>\n",
       "      <td>0.288701</td>\n",
       "      <td>TRYVFOB128F9333BAA</td>\n",
       "      <td>NaN</td>\n",
       "      <td>NaN</td>\n",
       "      <td>NaN</td>\n",
       "      <td>NaN</td>\n",
       "      <td>NaN</td>\n",
       "    </tr>\n",
       "    <tr>\n",
       "      <th>9</th>\n",
       "      <td>4488e641b752b1f8b6bade8df4d46d8b6d147706</td>\n",
       "      <td>0.050872</td>\n",
       "      <td>TRTEHXL128F931687B</td>\n",
       "      <td>TRTPCAQ128F425D53B</td>\n",
       "      <td>0.040862</td>\n",
       "      <td>0.040862</td>\n",
       "      <td>TRTPCAQ128F425D53B</td>\n",
       "      <td>NaN</td>\n",
       "      <td>NaN</td>\n",
       "      <td>NaN</td>\n",
       "      <td>NaN</td>\n",
       "      <td>NaN</td>\n",
       "    </tr>\n",
       "    <tr>\n",
       "      <th>10</th>\n",
       "      <td>d0689391b01ff89c96465edddc56f2697c7fd6c8</td>\n",
       "      <td>0.061758</td>\n",
       "      <td>TRONYHY128F92C9D11</td>\n",
       "      <td>TRGKFVI128F92FD688</td>\n",
       "      <td>0.014268</td>\n",
       "      <td>0.014268</td>\n",
       "      <td>TRGKFVI128F92FD688</td>\n",
       "      <td>NaN</td>\n",
       "      <td>NaN</td>\n",
       "      <td>NaN</td>\n",
       "      <td>NaN</td>\n",
       "      <td>NaN</td>\n",
       "    </tr>\n",
       "    <tr>\n",
       "      <th>11</th>\n",
       "      <td>ed0390fe9b11bb257dbce33183b7ae49fd1be826</td>\n",
       "      <td>0.054870</td>\n",
       "      <td>TRJWVCU128F14581FF</td>\n",
       "      <td>TRJBRHT128F424452F</td>\n",
       "      <td>0.014444</td>\n",
       "      <td>0.014444</td>\n",
       "      <td>TRJBRHT128F424452F</td>\n",
       "      <td>NaN</td>\n",
       "      <td>NaN</td>\n",
       "      <td>NaN</td>\n",
       "      <td>NaN</td>\n",
       "      <td>NaN</td>\n",
       "    </tr>\n",
       "    <tr>\n",
       "      <th>12</th>\n",
       "      <td>fb824e502e8f31aa56432179c4519582ec3ec17b</td>\n",
       "      <td>0.130052</td>\n",
       "      <td>TRHNBHR128F9350E67</td>\n",
       "      <td>TRZWTOU12903CE450A</td>\n",
       "      <td>0.027054</td>\n",
       "      <td>0.130052</td>\n",
       "      <td>TRHNBHR128F9350E67</td>\n",
       "      <td>NaN</td>\n",
       "      <td>NaN</td>\n",
       "      <td>NaN</td>\n",
       "      <td>NaN</td>\n",
       "      <td>NaN</td>\n",
       "    </tr>\n",
       "    <tr>\n",
       "      <th>13</th>\n",
       "      <td>58bb2292f008970f2b6dd0144fcc6ca90015277e</td>\n",
       "      <td>NaN</td>\n",
       "      <td>None</td>\n",
       "      <td>TRGXQES128F42BA5EB</td>\n",
       "      <td>0.012756</td>\n",
       "      <td>0.012756</td>\n",
       "      <td>TRGXQES128F42BA5EB</td>\n",
       "      <td>NaN</td>\n",
       "      <td>NaN</td>\n",
       "      <td>NaN</td>\n",
       "      <td>NaN</td>\n",
       "      <td>NaN</td>\n",
       "    </tr>\n",
       "    <tr>\n",
       "      <th>14</th>\n",
       "      <td>e97bd456a6a8b6588a1546f06b097dab0d1e09bd</td>\n",
       "      <td>0.088994</td>\n",
       "      <td>TREAJBV12903CCDA96</td>\n",
       "      <td>TRASBVS12903CF4537</td>\n",
       "      <td>0.011843</td>\n",
       "      <td>0.011843</td>\n",
       "      <td>TRASBVS12903CF4537</td>\n",
       "      <td>NaN</td>\n",
       "      <td>NaN</td>\n",
       "      <td>NaN</td>\n",
       "      <td>NaN</td>\n",
       "      <td>NaN</td>\n",
       "    </tr>\n",
       "    <tr>\n",
       "      <th>15</th>\n",
       "      <td>6fdf92fbcd3d493c06d24734d3b241c72676c780</td>\n",
       "      <td>0.107206</td>\n",
       "      <td>TRAEHHJ12903CF492F</td>\n",
       "      <td>TREGWXG128F9317156</td>\n",
       "      <td>0.033366</td>\n",
       "      <td>0.107206</td>\n",
       "      <td>TRAEHHJ12903CF492F</td>\n",
       "      <td>NaN</td>\n",
       "      <td>NaN</td>\n",
       "      <td>NaN</td>\n",
       "      <td>NaN</td>\n",
       "      <td>NaN</td>\n",
       "    </tr>\n",
       "    <tr>\n",
       "      <th>16</th>\n",
       "      <td>a2a3bfe711f7a0db33119e30a55ed98ed80499b8</td>\n",
       "      <td>0.056881</td>\n",
       "      <td>TRFWXUO128E0789D3D</td>\n",
       "      <td>TRJMMNK128F147E1ED</td>\n",
       "      <td>0.021467</td>\n",
       "      <td>0.021467</td>\n",
       "      <td>TRJMMNK128F147E1ED</td>\n",
       "      <td>NaN</td>\n",
       "      <td>NaN</td>\n",
       "      <td>NaN</td>\n",
       "      <td>NaN</td>\n",
       "      <td>NaN</td>\n",
       "    </tr>\n",
       "    <tr>\n",
       "      <th>17</th>\n",
       "      <td>02d77077e368ebfe50700e7c2eedc5a8fb913610</td>\n",
       "      <td>0.057729</td>\n",
       "      <td>TRZCJQV128F14570B1</td>\n",
       "      <td>TRTCLOZ128F429ACEE</td>\n",
       "      <td>0.021291</td>\n",
       "      <td>0.021291</td>\n",
       "      <td>TRTCLOZ128F429ACEE</td>\n",
       "      <td>NaN</td>\n",
       "      <td>NaN</td>\n",
       "      <td>NaN</td>\n",
       "      <td>NaN</td>\n",
       "      <td>NaN</td>\n",
       "    </tr>\n",
       "    <tr>\n",
       "      <th>18</th>\n",
       "      <td>b59e12018e3eba673793269f65b84c581b618afb</td>\n",
       "      <td>0.060901</td>\n",
       "      <td>TRKRRUV128F92F20F1</td>\n",
       "      <td>TRCMXLF128F92EC21D</td>\n",
       "      <td>0.032320</td>\n",
       "      <td>0.032320</td>\n",
       "      <td>TRCMXLF128F92EC21D</td>\n",
       "      <td>NaN</td>\n",
       "      <td>NaN</td>\n",
       "      <td>NaN</td>\n",
       "      <td>NaN</td>\n",
       "      <td>NaN</td>\n",
       "    </tr>\n",
       "    <tr>\n",
       "      <th>19</th>\n",
       "      <td>e17465267cd1da5a33981bceeb1363db33534968</td>\n",
       "      <td>0.979557</td>\n",
       "      <td>TRTQFMC128F92E3275</td>\n",
       "      <td>TRMJSOX12903CD5E67</td>\n",
       "      <td>0.015245</td>\n",
       "      <td>0.979557</td>\n",
       "      <td>TRTQFMC128F92E3275</td>\n",
       "      <td>NaN</td>\n",
       "      <td>NaN</td>\n",
       "      <td>NaN</td>\n",
       "      <td>NaN</td>\n",
       "      <td>NaN</td>\n",
       "    </tr>\n",
       "    <tr>\n",
       "      <th>20</th>\n",
       "      <td>fe5a8de5b10916d5212215c38f903319ce6b46be</td>\n",
       "      <td>0.099461</td>\n",
       "      <td>TRFQOSP128F427C2B2</td>\n",
       "      <td>TROZBBR128F4274299</td>\n",
       "      <td>0.030192</td>\n",
       "      <td>0.030192</td>\n",
       "      <td>TROZBBR128F4274299</td>\n",
       "      <td>NaN</td>\n",
       "      <td>NaN</td>\n",
       "      <td>NaN</td>\n",
       "      <td>NaN</td>\n",
       "      <td>NaN</td>\n",
       "    </tr>\n",
       "    <tr>\n",
       "      <th>21</th>\n",
       "      <td>1182288fe4cabfa7b7f58ddf9c77700115d36821</td>\n",
       "      <td>0.180564</td>\n",
       "      <td>TRYTIGK128F9326C63</td>\n",
       "      <td>TRPCOVO128F93094B2</td>\n",
       "      <td>0.011758</td>\n",
       "      <td>0.180564</td>\n",
       "      <td>TRYTIGK128F9326C63</td>\n",
       "      <td>NaN</td>\n",
       "      <td>NaN</td>\n",
       "      <td>NaN</td>\n",
       "      <td>NaN</td>\n",
       "      <td>NaN</td>\n",
       "    </tr>\n",
       "    <tr>\n",
       "      <th>22</th>\n",
       "      <td>95f0831c541dcb89a500456122f2b8f2e5fa16aa</td>\n",
       "      <td>0.079452</td>\n",
       "      <td>TRQTFUV128F426BFC7</td>\n",
       "      <td>TRIGWPI12903CBEE13</td>\n",
       "      <td>0.024891</td>\n",
       "      <td>0.024891</td>\n",
       "      <td>TRIGWPI12903CBEE13</td>\n",
       "      <td>NaN</td>\n",
       "      <td>NaN</td>\n",
       "      <td>NaN</td>\n",
       "      <td>NaN</td>\n",
       "      <td>NaN</td>\n",
       "    </tr>\n",
       "    <tr>\n",
       "      <th>23</th>\n",
       "      <td>704ce1e6ac48796eeeeb4d0d50da7149c566f48c</td>\n",
       "      <td>0.064403</td>\n",
       "      <td>TRHVKIO128F93009AD</td>\n",
       "      <td>TRVFPLW128F4281CB3</td>\n",
       "      <td>0.028210</td>\n",
       "      <td>0.028210</td>\n",
       "      <td>TRVFPLW128F4281CB3</td>\n",
       "      <td>NaN</td>\n",
       "      <td>NaN</td>\n",
       "      <td>NaN</td>\n",
       "      <td>NaN</td>\n",
       "      <td>NaN</td>\n",
       "    </tr>\n",
       "    <tr>\n",
       "      <th>24</th>\n",
       "      <td>7cb9994b38ded09d0cf3fad893e6270e8bc171f7</td>\n",
       "      <td>0.115532</td>\n",
       "      <td>TRWSDEV128F93119BF</td>\n",
       "      <td>TRJYYUM128F933C15D</td>\n",
       "      <td>0.009961</td>\n",
       "      <td>0.115532</td>\n",
       "      <td>TRWSDEV128F93119BF</td>\n",
       "      <td>NaN</td>\n",
       "      <td>NaN</td>\n",
       "      <td>NaN</td>\n",
       "      <td>NaN</td>\n",
       "      <td>NaN</td>\n",
       "    </tr>\n",
       "    <tr>\n",
       "      <th>25</th>\n",
       "      <td>a1d7be4969fcf0b4d00bfa6aff1f1563ec623064</td>\n",
       "      <td>0.979557</td>\n",
       "      <td>TRKEMFK12903CD84C4</td>\n",
       "      <td>TRGGSDN12903CD4312</td>\n",
       "      <td>0.034233</td>\n",
       "      <td>0.979557</td>\n",
       "      <td>TRKEMFK12903CD84C4</td>\n",
       "      <td>NaN</td>\n",
       "      <td>NaN</td>\n",
       "      <td>NaN</td>\n",
       "      <td>NaN</td>\n",
       "      <td>NaN</td>\n",
       "    </tr>\n",
       "    <tr>\n",
       "      <th>26</th>\n",
       "      <td>ffa05c02174f5ee67f37484605876f791a5a10f4</td>\n",
       "      <td>0.089229</td>\n",
       "      <td>TRAEHHJ12903CF492F</td>\n",
       "      <td>TROVBRY128F1454139</td>\n",
       "      <td>0.009820</td>\n",
       "      <td>0.009820</td>\n",
       "      <td>TROVBRY128F1454139</td>\n",
       "      <td>NaN</td>\n",
       "      <td>NaN</td>\n",
       "      <td>NaN</td>\n",
       "      <td>NaN</td>\n",
       "      <td>NaN</td>\n",
       "    </tr>\n",
       "    <tr>\n",
       "      <th>27</th>\n",
       "      <td>178931592190c3d3ba06c3c529b5e23d1e376b20</td>\n",
       "      <td>0.102105</td>\n",
       "      <td>TRGXQES128F42BA5EB</td>\n",
       "      <td>TRSSQKY128F426623C</td>\n",
       "      <td>0.023837</td>\n",
       "      <td>0.102105</td>\n",
       "      <td>TRGXQES128F42BA5EB</td>\n",
       "      <td>NaN</td>\n",
       "      <td>NaN</td>\n",
       "      <td>NaN</td>\n",
       "      <td>NaN</td>\n",
       "      <td>NaN</td>\n",
       "    </tr>\n",
       "    <tr>\n",
       "      <th>28</th>\n",
       "      <td>44044bd2bf939138234e67272a0aa04eca4952db</td>\n",
       "      <td>0.086905</td>\n",
       "      <td>TRGXQES128F42BA5EB</td>\n",
       "      <td>TRLMRKD128F425DC3E</td>\n",
       "      <td>0.014095</td>\n",
       "      <td>0.014095</td>\n",
       "      <td>TRLMRKD128F425DC3E</td>\n",
       "      <td>NaN</td>\n",
       "      <td>NaN</td>\n",
       "      <td>NaN</td>\n",
       "      <td>NaN</td>\n",
       "      <td>NaN</td>\n",
       "    </tr>\n",
       "    <tr>\n",
       "      <th>29</th>\n",
       "      <td>2c3ecdb9ec25ac7a7d94e4744d112f3fd47fd9c4</td>\n",
       "      <td>0.107281</td>\n",
       "      <td>TRQNYOA128F1469E1D</td>\n",
       "      <td>TRLGMFJ128F4217DBE</td>\n",
       "      <td>0.007960</td>\n",
       "      <td>0.107281</td>\n",
       "      <td>TRQNYOA128F1469E1D</td>\n",
       "      <td>NaN</td>\n",
       "      <td>NaN</td>\n",
       "      <td>NaN</td>\n",
       "      <td>NaN</td>\n",
       "      <td>NaN</td>\n",
       "    </tr>\n",
       "    <tr>\n",
       "      <th>...</th>\n",
       "      <td>...</td>\n",
       "      <td>...</td>\n",
       "      <td>...</td>\n",
       "      <td>...</td>\n",
       "      <td>...</td>\n",
       "      <td>...</td>\n",
       "      <td>...</td>\n",
       "      <td>...</td>\n",
       "      <td>...</td>\n",
       "      <td>...</td>\n",
       "      <td>...</td>\n",
       "      <td>...</td>\n",
       "    </tr>\n",
       "    <tr>\n",
       "      <th>412037</th>\n",
       "      <td>bf6d86135ad5964349d87d72028fbff0aac2a215</td>\n",
       "      <td>0.113404</td>\n",
       "      <td>TRTELZC128F14540C1</td>\n",
       "      <td>TRCNVFT128F42BA301</td>\n",
       "      <td>0.031526</td>\n",
       "      <td>0.113404</td>\n",
       "      <td>TRTELZC128F14540C1</td>\n",
       "      <td>NaN</td>\n",
       "      <td>NaN</td>\n",
       "      <td>NaN</td>\n",
       "      <td>NaN</td>\n",
       "      <td>NaN</td>\n",
       "    </tr>\n",
       "    <tr>\n",
       "      <th>412038</th>\n",
       "      <td>4ed49ebbe88b66426d0e9ede237dfa67edf241e3</td>\n",
       "      <td>0.117351</td>\n",
       "      <td>TRAEHHJ12903CF492F</td>\n",
       "      <td>TRQQZOP128F1459633</td>\n",
       "      <td>0.021865</td>\n",
       "      <td>0.117351</td>\n",
       "      <td>TRAEHHJ12903CF492F</td>\n",
       "      <td>NaN</td>\n",
       "      <td>NaN</td>\n",
       "      <td>NaN</td>\n",
       "      <td>NaN</td>\n",
       "      <td>NaN</td>\n",
       "    </tr>\n",
       "    <tr>\n",
       "      <th>412039</th>\n",
       "      <td>387dc4bc1aa9f5f170f47c9f09f35f322961757f</td>\n",
       "      <td>0.216239</td>\n",
       "      <td>TRRVGMP128F92FD5DE</td>\n",
       "      <td>TRJZLWS128F425D3A1</td>\n",
       "      <td>0.033281</td>\n",
       "      <td>0.216239</td>\n",
       "      <td>TRRVGMP128F92FD5DE</td>\n",
       "      <td>NaN</td>\n",
       "      <td>NaN</td>\n",
       "      <td>NaN</td>\n",
       "      <td>NaN</td>\n",
       "      <td>NaN</td>\n",
       "    </tr>\n",
       "    <tr>\n",
       "      <th>412040</th>\n",
       "      <td>8c2285f5b5166a2226bb5d3984c0b5a4806ff686</td>\n",
       "      <td>0.194727</td>\n",
       "      <td>TRTJNHZ12903C9E270</td>\n",
       "      <td>TROUCMI128F425F15F</td>\n",
       "      <td>0.022106</td>\n",
       "      <td>0.194727</td>\n",
       "      <td>TRTJNHZ12903C9E270</td>\n",
       "      <td>NaN</td>\n",
       "      <td>NaN</td>\n",
       "      <td>NaN</td>\n",
       "      <td>NaN</td>\n",
       "      <td>NaN</td>\n",
       "    </tr>\n",
       "    <tr>\n",
       "      <th>412041</th>\n",
       "      <td>e28af10b82f8d1918974a73f034b5366b5bef11c</td>\n",
       "      <td>0.084026</td>\n",
       "      <td>TRFMZCV128F92D2365</td>\n",
       "      <td>TRGVUDD12903CA4D39</td>\n",
       "      <td>0.043036</td>\n",
       "      <td>0.043036</td>\n",
       "      <td>TRGVUDD12903CA4D39</td>\n",
       "      <td>NaN</td>\n",
       "      <td>NaN</td>\n",
       "      <td>NaN</td>\n",
       "      <td>NaN</td>\n",
       "      <td>NaN</td>\n",
       "    </tr>\n",
       "    <tr>\n",
       "      <th>412042</th>\n",
       "      <td>f218f90410ea2c97c45e2269ea535cc6aeb9e69f</td>\n",
       "      <td>0.030637</td>\n",
       "      <td>TRHMSXC12903CC3F28</td>\n",
       "      <td>TRFOEYA128F4291A8E</td>\n",
       "      <td>0.008594</td>\n",
       "      <td>0.008594</td>\n",
       "      <td>TRFOEYA128F4291A8E</td>\n",
       "      <td>NaN</td>\n",
       "      <td>NaN</td>\n",
       "      <td>NaN</td>\n",
       "      <td>NaN</td>\n",
       "      <td>NaN</td>\n",
       "    </tr>\n",
       "    <tr>\n",
       "      <th>412043</th>\n",
       "      <td>6b35f30862a279cfa439d444273a897e47a6ae8d</td>\n",
       "      <td>0.073787</td>\n",
       "      <td>TRQNYOA128F1469E1D</td>\n",
       "      <td>TRRKJSH12903CEF01F</td>\n",
       "      <td>0.028477</td>\n",
       "      <td>0.028477</td>\n",
       "      <td>TRRKJSH12903CEF01F</td>\n",
       "      <td>NaN</td>\n",
       "      <td>NaN</td>\n",
       "      <td>NaN</td>\n",
       "      <td>NaN</td>\n",
       "      <td>NaN</td>\n",
       "    </tr>\n",
       "    <tr>\n",
       "      <th>412044</th>\n",
       "      <td>b9e1873bcad5cb77aa57cef5d461bc15d8450f04</td>\n",
       "      <td>0.125314</td>\n",
       "      <td>TRPOIAI128F4247FE2</td>\n",
       "      <td>TREYMBL128F428E90A</td>\n",
       "      <td>0.011799</td>\n",
       "      <td>0.125314</td>\n",
       "      <td>TRPOIAI128F4247FE2</td>\n",
       "      <td>NaN</td>\n",
       "      <td>NaN</td>\n",
       "      <td>NaN</td>\n",
       "      <td>NaN</td>\n",
       "      <td>NaN</td>\n",
       "    </tr>\n",
       "    <tr>\n",
       "      <th>412045</th>\n",
       "      <td>224e88d2ddd5f2da5dfe5b8a7928f02b69082bd8</td>\n",
       "      <td>0.165120</td>\n",
       "      <td>TROTSZG128F93123E5</td>\n",
       "      <td>TRMEILI128F426A9DF</td>\n",
       "      <td>0.020952</td>\n",
       "      <td>0.165120</td>\n",
       "      <td>TROTSZG128F93123E5</td>\n",
       "      <td>NaN</td>\n",
       "      <td>NaN</td>\n",
       "      <td>NaN</td>\n",
       "      <td>NaN</td>\n",
       "      <td>NaN</td>\n",
       "    </tr>\n",
       "    <tr>\n",
       "      <th>412046</th>\n",
       "      <td>50f8785d6b8ed1c171d6a55534398371cdeab32b</td>\n",
       "      <td>0.158395</td>\n",
       "      <td>TRASTUE128F930D488</td>\n",
       "      <td>TRGPCDH128F930258B</td>\n",
       "      <td>0.011859</td>\n",
       "      <td>0.158395</td>\n",
       "      <td>TRASTUE128F930D488</td>\n",
       "      <td>NaN</td>\n",
       "      <td>NaN</td>\n",
       "      <td>NaN</td>\n",
       "      <td>NaN</td>\n",
       "      <td>NaN</td>\n",
       "    </tr>\n",
       "    <tr>\n",
       "      <th>412047</th>\n",
       "      <td>c72fc0a253b3c22684829b53a46dc71de4a010d7</td>\n",
       "      <td>0.104732</td>\n",
       "      <td>TRTJYFF128F9340CA9</td>\n",
       "      <td>TRZOVHV128F423698B</td>\n",
       "      <td>0.025279</td>\n",
       "      <td>0.104732</td>\n",
       "      <td>TRTJYFF128F9340CA9</td>\n",
       "      <td>NaN</td>\n",
       "      <td>NaN</td>\n",
       "      <td>NaN</td>\n",
       "      <td>NaN</td>\n",
       "      <td>NaN</td>\n",
       "    </tr>\n",
       "    <tr>\n",
       "      <th>412048</th>\n",
       "      <td>84f5fa0a39f0aabcb72434cc9ba01589f077a500</td>\n",
       "      <td>0.123309</td>\n",
       "      <td>TRDGUPO128F9332CF6</td>\n",
       "      <td>TRBXVEA12903CD2DCA</td>\n",
       "      <td>0.022407</td>\n",
       "      <td>0.123309</td>\n",
       "      <td>TRDGUPO128F9332CF6</td>\n",
       "      <td>NaN</td>\n",
       "      <td>NaN</td>\n",
       "      <td>NaN</td>\n",
       "      <td>NaN</td>\n",
       "      <td>NaN</td>\n",
       "    </tr>\n",
       "    <tr>\n",
       "      <th>412049</th>\n",
       "      <td>3f0f54fc3af0fc6b47514f0779092330529706a9</td>\n",
       "      <td>0.073997</td>\n",
       "      <td>TRRVFSI128EF34A1AE</td>\n",
       "      <td>TRHRZWL128F42A6BDD</td>\n",
       "      <td>0.032218</td>\n",
       "      <td>0.032218</td>\n",
       "      <td>TRHRZWL128F42A6BDD</td>\n",
       "      <td>NaN</td>\n",
       "      <td>NaN</td>\n",
       "      <td>NaN</td>\n",
       "      <td>NaN</td>\n",
       "      <td>NaN</td>\n",
       "    </tr>\n",
       "    <tr>\n",
       "      <th>412050</th>\n",
       "      <td>7b7fca31a6cc96fbdff4276fb34e86e84719bbc0</td>\n",
       "      <td>0.979557</td>\n",
       "      <td>TRTZNQZ12903CD044C</td>\n",
       "      <td>TREDSDG128F92CC983</td>\n",
       "      <td>0.037293</td>\n",
       "      <td>0.979557</td>\n",
       "      <td>TRTZNQZ12903CD044C</td>\n",
       "      <td>NaN</td>\n",
       "      <td>NaN</td>\n",
       "      <td>NaN</td>\n",
       "      <td>NaN</td>\n",
       "      <td>NaN</td>\n",
       "    </tr>\n",
       "    <tr>\n",
       "      <th>412051</th>\n",
       "      <td>5fbca73ce00677f5ba1020d697495585626522c8</td>\n",
       "      <td>0.056255</td>\n",
       "      <td>TRIGFBJ128F92E2161</td>\n",
       "      <td>TRCEEDM128F42BA68C</td>\n",
       "      <td>0.034702</td>\n",
       "      <td>0.034702</td>\n",
       "      <td>TRCEEDM128F42BA68C</td>\n",
       "      <td>NaN</td>\n",
       "      <td>NaN</td>\n",
       "      <td>NaN</td>\n",
       "      <td>NaN</td>\n",
       "      <td>NaN</td>\n",
       "    </tr>\n",
       "    <tr>\n",
       "      <th>412052</th>\n",
       "      <td>e2881aa47cac500f41186cf3165d1ec0f9e215fe</td>\n",
       "      <td>0.115358</td>\n",
       "      <td>TROHFJK12903CC4BCE</td>\n",
       "      <td>TRXRGFO12903CCB4A1</td>\n",
       "      <td>0.004030</td>\n",
       "      <td>0.115358</td>\n",
       "      <td>TROHFJK12903CC4BCE</td>\n",
       "      <td>NaN</td>\n",
       "      <td>NaN</td>\n",
       "      <td>NaN</td>\n",
       "      <td>NaN</td>\n",
       "      <td>NaN</td>\n",
       "    </tr>\n",
       "    <tr>\n",
       "      <th>412053</th>\n",
       "      <td>e17757f228d6e988ecfd91ebca992c3645d6880d</td>\n",
       "      <td>0.054109</td>\n",
       "      <td>TRXAUWP128EF34B50E</td>\n",
       "      <td>TRGHIAQ128F42890CF</td>\n",
       "      <td>0.014637</td>\n",
       "      <td>0.014637</td>\n",
       "      <td>TRGHIAQ128F42890CF</td>\n",
       "      <td>NaN</td>\n",
       "      <td>NaN</td>\n",
       "      <td>NaN</td>\n",
       "      <td>NaN</td>\n",
       "      <td>NaN</td>\n",
       "    </tr>\n",
       "    <tr>\n",
       "      <th>412054</th>\n",
       "      <td>30c7527afb752d126e1535e199b792dce28c52ab</td>\n",
       "      <td>0.043209</td>\n",
       "      <td>TRSMQXY128F93216E3</td>\n",
       "      <td>TRSBQJU128F93216E8</td>\n",
       "      <td>0.007404</td>\n",
       "      <td>0.007404</td>\n",
       "      <td>TRSBQJU128F93216E8</td>\n",
       "      <td>NaN</td>\n",
       "      <td>NaN</td>\n",
       "      <td>NaN</td>\n",
       "      <td>NaN</td>\n",
       "      <td>NaN</td>\n",
       "    </tr>\n",
       "    <tr>\n",
       "      <th>412055</th>\n",
       "      <td>3feae9fb4e1aa50674a0a037f7563fbf8bb36bab</td>\n",
       "      <td>0.127447</td>\n",
       "      <td>TRMHIQB128F42574AA</td>\n",
       "      <td>TRPQLMD128F9338FC6</td>\n",
       "      <td>0.014922</td>\n",
       "      <td>0.127447</td>\n",
       "      <td>TRMHIQB128F42574AA</td>\n",
       "      <td>NaN</td>\n",
       "      <td>NaN</td>\n",
       "      <td>NaN</td>\n",
       "      <td>NaN</td>\n",
       "      <td>NaN</td>\n",
       "    </tr>\n",
       "    <tr>\n",
       "      <th>412056</th>\n",
       "      <td>ef19fca844d6939efd86a6e6a7f78b7f69fb245a</td>\n",
       "      <td>0.037714</td>\n",
       "      <td>TRXXFER128EF344553</td>\n",
       "      <td>TRGAEBS128F429212D</td>\n",
       "      <td>0.007209</td>\n",
       "      <td>0.007209</td>\n",
       "      <td>TRGAEBS128F429212D</td>\n",
       "      <td>NaN</td>\n",
       "      <td>NaN</td>\n",
       "      <td>NaN</td>\n",
       "      <td>NaN</td>\n",
       "      <td>NaN</td>\n",
       "    </tr>\n",
       "    <tr>\n",
       "      <th>412057</th>\n",
       "      <td>b95d280d12e5d7e5de9b586799c718c81d698a4d</td>\n",
       "      <td>0.077645</td>\n",
       "      <td>TRLGZHG128EF34FE48</td>\n",
       "      <td>TRMZVUD12903CB4B09</td>\n",
       "      <td>0.013310</td>\n",
       "      <td>0.013310</td>\n",
       "      <td>TRMZVUD12903CB4B09</td>\n",
       "      <td>NaN</td>\n",
       "      <td>NaN</td>\n",
       "      <td>NaN</td>\n",
       "      <td>NaN</td>\n",
       "      <td>NaN</td>\n",
       "    </tr>\n",
       "    <tr>\n",
       "      <th>412058</th>\n",
       "      <td>d246d416f4b8117e1a6e5bc23843bdbe1ed5ff59</td>\n",
       "      <td>0.060649</td>\n",
       "      <td>TRHHKEH128F423AFD7</td>\n",
       "      <td>TRAUXKY128F933AB39</td>\n",
       "      <td>0.030815</td>\n",
       "      <td>0.030815</td>\n",
       "      <td>TRAUXKY128F933AB39</td>\n",
       "      <td>NaN</td>\n",
       "      <td>NaN</td>\n",
       "      <td>NaN</td>\n",
       "      <td>NaN</td>\n",
       "      <td>NaN</td>\n",
       "    </tr>\n",
       "    <tr>\n",
       "      <th>412059</th>\n",
       "      <td>6b9ef666e3b10fd428530e519e1a3f68c2fbbd1a</td>\n",
       "      <td>0.076355</td>\n",
       "      <td>TROAQBZ128F9326213</td>\n",
       "      <td>TRYLBRQ12903CE43F2</td>\n",
       "      <td>0.006555</td>\n",
       "      <td>0.006555</td>\n",
       "      <td>TRYLBRQ12903CE43F2</td>\n",
       "      <td>NaN</td>\n",
       "      <td>NaN</td>\n",
       "      <td>NaN</td>\n",
       "      <td>NaN</td>\n",
       "      <td>NaN</td>\n",
       "    </tr>\n",
       "    <tr>\n",
       "      <th>412060</th>\n",
       "      <td>376f71b09d04a28df781b9b1decae89e2daf76f8</td>\n",
       "      <td>0.143062</td>\n",
       "      <td>TRRVGMP128F92FD5DE</td>\n",
       "      <td>TRXBWTR128F425BD2E</td>\n",
       "      <td>0.008363</td>\n",
       "      <td>0.143062</td>\n",
       "      <td>TRRVGMP128F92FD5DE</td>\n",
       "      <td>NaN</td>\n",
       "      <td>NaN</td>\n",
       "      <td>NaN</td>\n",
       "      <td>NaN</td>\n",
       "      <td>NaN</td>\n",
       "    </tr>\n",
       "    <tr>\n",
       "      <th>412061</th>\n",
       "      <td>63128fe12ee349c6c84bc83e2028955e931b8b45</td>\n",
       "      <td>0.081713</td>\n",
       "      <td>TRONYHY128F92C9D11</td>\n",
       "      <td>TRDMBIJ128F4290431</td>\n",
       "      <td>0.008248</td>\n",
       "      <td>0.008248</td>\n",
       "      <td>TRDMBIJ128F4290431</td>\n",
       "      <td>SOFRQTD12A81C233C0</td>\n",
       "      <td>1</td>\n",
       "      <td>174</td>\n",
       "      <td>0.005747</td>\n",
       "      <td>TRDMBIJ128F4290431</td>\n",
       "    </tr>\n",
       "    <tr>\n",
       "      <th>412062</th>\n",
       "      <td>a3a9b3a1a49b4d4b170e80b0330de9fbf70fcd31</td>\n",
       "      <td>0.101040</td>\n",
       "      <td>TRSBBOA128F145B794</td>\n",
       "      <td>TRDXBDH128E07825D2</td>\n",
       "      <td>0.009801</td>\n",
       "      <td>0.101040</td>\n",
       "      <td>TRSBBOA128F145B794</td>\n",
       "      <td>NaN</td>\n",
       "      <td>NaN</td>\n",
       "      <td>NaN</td>\n",
       "      <td>NaN</td>\n",
       "      <td>NaN</td>\n",
       "    </tr>\n",
       "    <tr>\n",
       "      <th>412063</th>\n",
       "      <td>1d06d59a0cfd79ee8e787706d5dfb514940819cf</td>\n",
       "      <td>0.066918</td>\n",
       "      <td>TRRVGMP128F92FD5DE</td>\n",
       "      <td>TRIYGWC128F427CC75</td>\n",
       "      <td>0.015262</td>\n",
       "      <td>0.015262</td>\n",
       "      <td>TRIYGWC128F427CC75</td>\n",
       "      <td>NaN</td>\n",
       "      <td>NaN</td>\n",
       "      <td>NaN</td>\n",
       "      <td>NaN</td>\n",
       "      <td>NaN</td>\n",
       "    </tr>\n",
       "    <tr>\n",
       "      <th>412064</th>\n",
       "      <td>553712dc502fad88544c43f55bce4c15704e8cf2</td>\n",
       "      <td>0.247405</td>\n",
       "      <td>TRCOSRR128E0799041</td>\n",
       "      <td>TRCFAEL12903CE4691</td>\n",
       "      <td>0.005829</td>\n",
       "      <td>0.247405</td>\n",
       "      <td>TRCOSRR128E0799041</td>\n",
       "      <td>NaN</td>\n",
       "      <td>NaN</td>\n",
       "      <td>NaN</td>\n",
       "      <td>NaN</td>\n",
       "      <td>NaN</td>\n",
       "    </tr>\n",
       "    <tr>\n",
       "      <th>412065</th>\n",
       "      <td>0c6da1448a22bd9f2bcca5b3879603062454ca9b</td>\n",
       "      <td>0.124583</td>\n",
       "      <td>TRDJWWE128F4255A4D</td>\n",
       "      <td>TRPSATI128F933BFE2</td>\n",
       "      <td>0.035780</td>\n",
       "      <td>0.124583</td>\n",
       "      <td>TRDJWWE128F4255A4D</td>\n",
       "      <td>NaN</td>\n",
       "      <td>NaN</td>\n",
       "      <td>NaN</td>\n",
       "      <td>NaN</td>\n",
       "      <td>NaN</td>\n",
       "    </tr>\n",
       "    <tr>\n",
       "      <th>412066</th>\n",
       "      <td>3c0dc8ef4ccf61742debbf097306c06d6140dad3</td>\n",
       "      <td>0.000000</td>\n",
       "      <td>TRASTUE128F930D488</td>\n",
       "      <td>TRDKVNY128F428B56D</td>\n",
       "      <td>0.024634</td>\n",
       "      <td>0.024634</td>\n",
       "      <td>TRDKVNY128F428B56D</td>\n",
       "      <td>NaN</td>\n",
       "      <td>NaN</td>\n",
       "      <td>NaN</td>\n",
       "      <td>NaN</td>\n",
       "      <td>NaN</td>\n",
       "    </tr>\n",
       "  </tbody>\n",
       "</table>\n",
       "<p>412067 rows × 12 columns</p>\n",
       "</div>"
      ],
      "text/plain": [
       "                                         user_id      conf  \\\n",
       "0       27b3ada29b6fbc58cc0be1beeee5c161490525ba  0.138705   \n",
       "1       6a8e16ac4eaa5ee1728e1b60922999b270c17fdf  0.074418   \n",
       "2       6ed926e5e561ddbbe64e2035a6c7d0ee5577e14c  0.049008   \n",
       "3       ca0925c9fdcbf37a01f1a78b68cee569d1bf7022       NaN   \n",
       "4       01af5e2e5171efb50f0ddecfd7b89fc9cf0adb21  0.056607   \n",
       "5       0ebbc1f2391a69966f029899d0f7929936685fd7  0.051311   \n",
       "6       f1e97499ac227a34407038bb55426e262bd3ad70  0.134716   \n",
       "7       5786b71658878d3c7ac2200b7f4e628cf8fa80fa  0.093374   \n",
       "8       208e0cc46d08efb53676825dccbb31ed2fb10fa9  0.288701   \n",
       "9       4488e641b752b1f8b6bade8df4d46d8b6d147706  0.050872   \n",
       "10      d0689391b01ff89c96465edddc56f2697c7fd6c8  0.061758   \n",
       "11      ed0390fe9b11bb257dbce33183b7ae49fd1be826  0.054870   \n",
       "12      fb824e502e8f31aa56432179c4519582ec3ec17b  0.130052   \n",
       "13      58bb2292f008970f2b6dd0144fcc6ca90015277e       NaN   \n",
       "14      e97bd456a6a8b6588a1546f06b097dab0d1e09bd  0.088994   \n",
       "15      6fdf92fbcd3d493c06d24734d3b241c72676c780  0.107206   \n",
       "16      a2a3bfe711f7a0db33119e30a55ed98ed80499b8  0.056881   \n",
       "17      02d77077e368ebfe50700e7c2eedc5a8fb913610  0.057729   \n",
       "18      b59e12018e3eba673793269f65b84c581b618afb  0.060901   \n",
       "19      e17465267cd1da5a33981bceeb1363db33534968  0.979557   \n",
       "20      fe5a8de5b10916d5212215c38f903319ce6b46be  0.099461   \n",
       "21      1182288fe4cabfa7b7f58ddf9c77700115d36821  0.180564   \n",
       "22      95f0831c541dcb89a500456122f2b8f2e5fa16aa  0.079452   \n",
       "23      704ce1e6ac48796eeeeb4d0d50da7149c566f48c  0.064403   \n",
       "24      7cb9994b38ded09d0cf3fad893e6270e8bc171f7  0.115532   \n",
       "25      a1d7be4969fcf0b4d00bfa6aff1f1563ec623064  0.979557   \n",
       "26      ffa05c02174f5ee67f37484605876f791a5a10f4  0.089229   \n",
       "27      178931592190c3d3ba06c3c529b5e23d1e376b20  0.102105   \n",
       "28      44044bd2bf939138234e67272a0aa04eca4952db  0.086905   \n",
       "29      2c3ecdb9ec25ac7a7d94e4744d112f3fd47fd9c4  0.107281   \n",
       "...                                          ...       ...   \n",
       "412037  bf6d86135ad5964349d87d72028fbff0aac2a215  0.113404   \n",
       "412038  4ed49ebbe88b66426d0e9ede237dfa67edf241e3  0.117351   \n",
       "412039  387dc4bc1aa9f5f170f47c9f09f35f322961757f  0.216239   \n",
       "412040  8c2285f5b5166a2226bb5d3984c0b5a4806ff686  0.194727   \n",
       "412041  e28af10b82f8d1918974a73f034b5366b5bef11c  0.084026   \n",
       "412042  f218f90410ea2c97c45e2269ea535cc6aeb9e69f  0.030637   \n",
       "412043  6b35f30862a279cfa439d444273a897e47a6ae8d  0.073787   \n",
       "412044  b9e1873bcad5cb77aa57cef5d461bc15d8450f04  0.125314   \n",
       "412045  224e88d2ddd5f2da5dfe5b8a7928f02b69082bd8  0.165120   \n",
       "412046  50f8785d6b8ed1c171d6a55534398371cdeab32b  0.158395   \n",
       "412047  c72fc0a253b3c22684829b53a46dc71de4a010d7  0.104732   \n",
       "412048  84f5fa0a39f0aabcb72434cc9ba01589f077a500  0.123309   \n",
       "412049  3f0f54fc3af0fc6b47514f0779092330529706a9  0.073997   \n",
       "412050  7b7fca31a6cc96fbdff4276fb34e86e84719bbc0  0.979557   \n",
       "412051  5fbca73ce00677f5ba1020d697495585626522c8  0.056255   \n",
       "412052  e2881aa47cac500f41186cf3165d1ec0f9e215fe  0.115358   \n",
       "412053  e17757f228d6e988ecfd91ebca992c3645d6880d  0.054109   \n",
       "412054  30c7527afb752d126e1535e199b792dce28c52ab  0.043209   \n",
       "412055  3feae9fb4e1aa50674a0a037f7563fbf8bb36bab  0.127447   \n",
       "412056  ef19fca844d6939efd86a6e6a7f78b7f69fb245a  0.037714   \n",
       "412057  b95d280d12e5d7e5de9b586799c718c81d698a4d  0.077645   \n",
       "412058  d246d416f4b8117e1a6e5bc23843bdbe1ed5ff59  0.060649   \n",
       "412059  6b9ef666e3b10fd428530e519e1a3f68c2fbbd1a  0.076355   \n",
       "412060  376f71b09d04a28df781b9b1decae89e2daf76f8  0.143062   \n",
       "412061  63128fe12ee349c6c84bc83e2028955e931b8b45  0.081713   \n",
       "412062  a3a9b3a1a49b4d4b170e80b0330de9fbf70fcd31  0.101040   \n",
       "412063  1d06d59a0cfd79ee8e787706d5dfb514940819cf  0.066918   \n",
       "412064  553712dc502fad88544c43f55bce4c15704e8cf2  0.247405   \n",
       "412065  0c6da1448a22bd9f2bcca5b3879603062454ca9b  0.124583   \n",
       "412066  3c0dc8ef4ccf61742debbf097306c06d6140dad3  0.000000   \n",
       "\n",
       "                track_id_x               cbrec  pred_norm  final_pred  \\\n",
       "0       TRGXQES128F42BA5EB  TRTBIEH128F427C13C   0.022759    0.138705   \n",
       "1       TROYOZD12903CEE24F  TRAMNJB128F92EFDC7   0.021551    0.021551   \n",
       "2       TRDFZTB12903CF1CBD  TRLGMFJ128F4217DBE   0.027616    0.027616   \n",
       "3                     None  TRHKJNX12903CEFCDF   0.038102    0.038102   \n",
       "4       TRVJJWW12903CE67AA  TRXCWFL128F9325F6F   0.013804    0.013804   \n",
       "5       TRHSGXW12903CE895F  TRLMZAU128F425045A   0.004063    0.004063   \n",
       "6       TRDJWWE128F4255A4D  TRSJPWY128F9302565   0.025422    0.134716   \n",
       "7       TRBKMRO128F935877F  TRHHMLX12903CB503B   0.008078    0.008078   \n",
       "8       TRYVFOB128F9333BAA  TRHLRXZ128F149F06B   0.015949    0.288701   \n",
       "9       TRTEHXL128F931687B  TRTPCAQ128F425D53B   0.040862    0.040862   \n",
       "10      TRONYHY128F92C9D11  TRGKFVI128F92FD688   0.014268    0.014268   \n",
       "11      TRJWVCU128F14581FF  TRJBRHT128F424452F   0.014444    0.014444   \n",
       "12      TRHNBHR128F9350E67  TRZWTOU12903CE450A   0.027054    0.130052   \n",
       "13                    None  TRGXQES128F42BA5EB   0.012756    0.012756   \n",
       "14      TREAJBV12903CCDA96  TRASBVS12903CF4537   0.011843    0.011843   \n",
       "15      TRAEHHJ12903CF492F  TREGWXG128F9317156   0.033366    0.107206   \n",
       "16      TRFWXUO128E0789D3D  TRJMMNK128F147E1ED   0.021467    0.021467   \n",
       "17      TRZCJQV128F14570B1  TRTCLOZ128F429ACEE   0.021291    0.021291   \n",
       "18      TRKRRUV128F92F20F1  TRCMXLF128F92EC21D   0.032320    0.032320   \n",
       "19      TRTQFMC128F92E3275  TRMJSOX12903CD5E67   0.015245    0.979557   \n",
       "20      TRFQOSP128F427C2B2  TROZBBR128F4274299   0.030192    0.030192   \n",
       "21      TRYTIGK128F9326C63  TRPCOVO128F93094B2   0.011758    0.180564   \n",
       "22      TRQTFUV128F426BFC7  TRIGWPI12903CBEE13   0.024891    0.024891   \n",
       "23      TRHVKIO128F93009AD  TRVFPLW128F4281CB3   0.028210    0.028210   \n",
       "24      TRWSDEV128F93119BF  TRJYYUM128F933C15D   0.009961    0.115532   \n",
       "25      TRKEMFK12903CD84C4  TRGGSDN12903CD4312   0.034233    0.979557   \n",
       "26      TRAEHHJ12903CF492F  TROVBRY128F1454139   0.009820    0.009820   \n",
       "27      TRGXQES128F42BA5EB  TRSSQKY128F426623C   0.023837    0.102105   \n",
       "28      TRGXQES128F42BA5EB  TRLMRKD128F425DC3E   0.014095    0.014095   \n",
       "29      TRQNYOA128F1469E1D  TRLGMFJ128F4217DBE   0.007960    0.107281   \n",
       "...                    ...                 ...        ...         ...   \n",
       "412037  TRTELZC128F14540C1  TRCNVFT128F42BA301   0.031526    0.113404   \n",
       "412038  TRAEHHJ12903CF492F  TRQQZOP128F1459633   0.021865    0.117351   \n",
       "412039  TRRVGMP128F92FD5DE  TRJZLWS128F425D3A1   0.033281    0.216239   \n",
       "412040  TRTJNHZ12903C9E270  TROUCMI128F425F15F   0.022106    0.194727   \n",
       "412041  TRFMZCV128F92D2365  TRGVUDD12903CA4D39   0.043036    0.043036   \n",
       "412042  TRHMSXC12903CC3F28  TRFOEYA128F4291A8E   0.008594    0.008594   \n",
       "412043  TRQNYOA128F1469E1D  TRRKJSH12903CEF01F   0.028477    0.028477   \n",
       "412044  TRPOIAI128F4247FE2  TREYMBL128F428E90A   0.011799    0.125314   \n",
       "412045  TROTSZG128F93123E5  TRMEILI128F426A9DF   0.020952    0.165120   \n",
       "412046  TRASTUE128F930D488  TRGPCDH128F930258B   0.011859    0.158395   \n",
       "412047  TRTJYFF128F9340CA9  TRZOVHV128F423698B   0.025279    0.104732   \n",
       "412048  TRDGUPO128F9332CF6  TRBXVEA12903CD2DCA   0.022407    0.123309   \n",
       "412049  TRRVFSI128EF34A1AE  TRHRZWL128F42A6BDD   0.032218    0.032218   \n",
       "412050  TRTZNQZ12903CD044C  TREDSDG128F92CC983   0.037293    0.979557   \n",
       "412051  TRIGFBJ128F92E2161  TRCEEDM128F42BA68C   0.034702    0.034702   \n",
       "412052  TROHFJK12903CC4BCE  TRXRGFO12903CCB4A1   0.004030    0.115358   \n",
       "412053  TRXAUWP128EF34B50E  TRGHIAQ128F42890CF   0.014637    0.014637   \n",
       "412054  TRSMQXY128F93216E3  TRSBQJU128F93216E8   0.007404    0.007404   \n",
       "412055  TRMHIQB128F42574AA  TRPQLMD128F9338FC6   0.014922    0.127447   \n",
       "412056  TRXXFER128EF344553  TRGAEBS128F429212D   0.007209    0.007209   \n",
       "412057  TRLGZHG128EF34FE48  TRMZVUD12903CB4B09   0.013310    0.013310   \n",
       "412058  TRHHKEH128F423AFD7  TRAUXKY128F933AB39   0.030815    0.030815   \n",
       "412059  TROAQBZ128F9326213  TRYLBRQ12903CE43F2   0.006555    0.006555   \n",
       "412060  TRRVGMP128F92FD5DE  TRXBWTR128F425BD2E   0.008363    0.143062   \n",
       "412061  TRONYHY128F92C9D11  TRDMBIJ128F4290431   0.008248    0.008248   \n",
       "412062  TRSBBOA128F145B794  TRDXBDH128E07825D2   0.009801    0.101040   \n",
       "412063  TRRVGMP128F92FD5DE  TRIYGWC128F427CC75   0.015262    0.015262   \n",
       "412064  TRCOSRR128E0799041  TRCFAEL12903CE4691   0.005829    0.247405   \n",
       "412065  TRDJWWE128F4255A4D  TRPSATI128F933BFE2   0.035780    0.124583   \n",
       "412066  TRASTUE128F930D488  TRDKVNY128F428B56D   0.024634    0.024634   \n",
       "\n",
       "                 final_tid             song_id  play_count  play_sum  \\\n",
       "0       TRGXQES128F42BA5EB                 NaN         NaN       NaN   \n",
       "1       TRAMNJB128F92EFDC7                 NaN         NaN       NaN   \n",
       "2       TRLGMFJ128F4217DBE                 NaN         NaN       NaN   \n",
       "3       TRHKJNX12903CEFCDF                 NaN         NaN       NaN   \n",
       "4       TRXCWFL128F9325F6F                 NaN         NaN       NaN   \n",
       "5       TRLMZAU128F425045A                 NaN         NaN       NaN   \n",
       "6       TRDJWWE128F4255A4D                 NaN         NaN       NaN   \n",
       "7       TRHHMLX12903CB503B                 NaN         NaN       NaN   \n",
       "8       TRYVFOB128F9333BAA                 NaN         NaN       NaN   \n",
       "9       TRTPCAQ128F425D53B                 NaN         NaN       NaN   \n",
       "10      TRGKFVI128F92FD688                 NaN         NaN       NaN   \n",
       "11      TRJBRHT128F424452F                 NaN         NaN       NaN   \n",
       "12      TRHNBHR128F9350E67                 NaN         NaN       NaN   \n",
       "13      TRGXQES128F42BA5EB                 NaN         NaN       NaN   \n",
       "14      TRASBVS12903CF4537                 NaN         NaN       NaN   \n",
       "15      TRAEHHJ12903CF492F                 NaN         NaN       NaN   \n",
       "16      TRJMMNK128F147E1ED                 NaN         NaN       NaN   \n",
       "17      TRTCLOZ128F429ACEE                 NaN         NaN       NaN   \n",
       "18      TRCMXLF128F92EC21D                 NaN         NaN       NaN   \n",
       "19      TRTQFMC128F92E3275                 NaN         NaN       NaN   \n",
       "20      TROZBBR128F4274299                 NaN         NaN       NaN   \n",
       "21      TRYTIGK128F9326C63                 NaN         NaN       NaN   \n",
       "22      TRIGWPI12903CBEE13                 NaN         NaN       NaN   \n",
       "23      TRVFPLW128F4281CB3                 NaN         NaN       NaN   \n",
       "24      TRWSDEV128F93119BF                 NaN         NaN       NaN   \n",
       "25      TRKEMFK12903CD84C4                 NaN         NaN       NaN   \n",
       "26      TROVBRY128F1454139                 NaN         NaN       NaN   \n",
       "27      TRGXQES128F42BA5EB                 NaN         NaN       NaN   \n",
       "28      TRLMRKD128F425DC3E                 NaN         NaN       NaN   \n",
       "29      TRQNYOA128F1469E1D                 NaN         NaN       NaN   \n",
       "...                    ...                 ...         ...       ...   \n",
       "412037  TRTELZC128F14540C1                 NaN         NaN       NaN   \n",
       "412038  TRAEHHJ12903CF492F                 NaN         NaN       NaN   \n",
       "412039  TRRVGMP128F92FD5DE                 NaN         NaN       NaN   \n",
       "412040  TRTJNHZ12903C9E270                 NaN         NaN       NaN   \n",
       "412041  TRGVUDD12903CA4D39                 NaN         NaN       NaN   \n",
       "412042  TRFOEYA128F4291A8E                 NaN         NaN       NaN   \n",
       "412043  TRRKJSH12903CEF01F                 NaN         NaN       NaN   \n",
       "412044  TRPOIAI128F4247FE2                 NaN         NaN       NaN   \n",
       "412045  TROTSZG128F93123E5                 NaN         NaN       NaN   \n",
       "412046  TRASTUE128F930D488                 NaN         NaN       NaN   \n",
       "412047  TRTJYFF128F9340CA9                 NaN         NaN       NaN   \n",
       "412048  TRDGUPO128F9332CF6                 NaN         NaN       NaN   \n",
       "412049  TRHRZWL128F42A6BDD                 NaN         NaN       NaN   \n",
       "412050  TRTZNQZ12903CD044C                 NaN         NaN       NaN   \n",
       "412051  TRCEEDM128F42BA68C                 NaN         NaN       NaN   \n",
       "412052  TROHFJK12903CC4BCE                 NaN         NaN       NaN   \n",
       "412053  TRGHIAQ128F42890CF                 NaN         NaN       NaN   \n",
       "412054  TRSBQJU128F93216E8                 NaN         NaN       NaN   \n",
       "412055  TRMHIQB128F42574AA                 NaN         NaN       NaN   \n",
       "412056  TRGAEBS128F429212D                 NaN         NaN       NaN   \n",
       "412057  TRMZVUD12903CB4B09                 NaN         NaN       NaN   \n",
       "412058  TRAUXKY128F933AB39                 NaN         NaN       NaN   \n",
       "412059  TRYLBRQ12903CE43F2                 NaN         NaN       NaN   \n",
       "412060  TRRVGMP128F92FD5DE                 NaN         NaN       NaN   \n",
       "412061  TRDMBIJ128F4290431  SOFRQTD12A81C233C0           1       174   \n",
       "412062  TRSBBOA128F145B794                 NaN         NaN       NaN   \n",
       "412063  TRIYGWC128F427CC75                 NaN         NaN       NaN   \n",
       "412064  TRCOSRR128E0799041                 NaN         NaN       NaN   \n",
       "412065  TRDJWWE128F4255A4D                 NaN         NaN       NaN   \n",
       "412066  TRDKVNY128F428B56D                 NaN         NaN       NaN   \n",
       "\n",
       "         pc_norm            track_id  \n",
       "0            NaN                 NaN  \n",
       "1            NaN                 NaN  \n",
       "2            NaN                 NaN  \n",
       "3            NaN                 NaN  \n",
       "4            NaN                 NaN  \n",
       "5            NaN                 NaN  \n",
       "6            NaN                 NaN  \n",
       "7            NaN                 NaN  \n",
       "8            NaN                 NaN  \n",
       "9            NaN                 NaN  \n",
       "10           NaN                 NaN  \n",
       "11           NaN                 NaN  \n",
       "12           NaN                 NaN  \n",
       "13           NaN                 NaN  \n",
       "14           NaN                 NaN  \n",
       "15           NaN                 NaN  \n",
       "16           NaN                 NaN  \n",
       "17           NaN                 NaN  \n",
       "18           NaN                 NaN  \n",
       "19           NaN                 NaN  \n",
       "20           NaN                 NaN  \n",
       "21           NaN                 NaN  \n",
       "22           NaN                 NaN  \n",
       "23           NaN                 NaN  \n",
       "24           NaN                 NaN  \n",
       "25           NaN                 NaN  \n",
       "26           NaN                 NaN  \n",
       "27           NaN                 NaN  \n",
       "28           NaN                 NaN  \n",
       "29           NaN                 NaN  \n",
       "...          ...                 ...  \n",
       "412037       NaN                 NaN  \n",
       "412038       NaN                 NaN  \n",
       "412039       NaN                 NaN  \n",
       "412040       NaN                 NaN  \n",
       "412041       NaN                 NaN  \n",
       "412042       NaN                 NaN  \n",
       "412043       NaN                 NaN  \n",
       "412044       NaN                 NaN  \n",
       "412045       NaN                 NaN  \n",
       "412046       NaN                 NaN  \n",
       "412047       NaN                 NaN  \n",
       "412048       NaN                 NaN  \n",
       "412049       NaN                 NaN  \n",
       "412050       NaN                 NaN  \n",
       "412051       NaN                 NaN  \n",
       "412052       NaN                 NaN  \n",
       "412053       NaN                 NaN  \n",
       "412054       NaN                 NaN  \n",
       "412055       NaN                 NaN  \n",
       "412056       NaN                 NaN  \n",
       "412057       NaN                 NaN  \n",
       "412058       NaN                 NaN  \n",
       "412059       NaN                 NaN  \n",
       "412060       NaN                 NaN  \n",
       "412061  0.005747  TRDMBIJ128F4290431  \n",
       "412062       NaN                 NaN  \n",
       "412063       NaN                 NaN  \n",
       "412064       NaN                 NaN  \n",
       "412065       NaN                 NaN  \n",
       "412066       NaN                 NaN  \n",
       "\n",
       "[412067 rows x 12 columns]"
      ]
     },
     "execution_count": 248,
     "metadata": {},
     "output_type": "execute_result"
    }
   ],
   "source": [
    "final_merge"
   ]
  },
  {
   "cell_type": "code",
   "execution_count": 249,
   "metadata": {
    "collapsed": false
   },
   "outputs": [],
   "source": [
    "final_merge.loc[final_merge.pc_norm.isnull(), \"pc_norm\"] = 0"
   ]
  },
  {
   "cell_type": "code",
   "execution_count": 250,
   "metadata": {
    "collapsed": false
   },
   "outputs": [
    {
     "data": {
      "text/plain": [
       "0.13765872200458884"
      ]
     },
     "execution_count": 250,
     "metadata": {},
     "output_type": "execute_result"
    }
   ],
   "source": [
    "np.sqrt(((final_merge.final_pred - final_merge.pc_norm) ** 2).mean())"
   ]
  },
  {
   "cell_type": "code",
   "execution_count": 258,
   "metadata": {
    "collapsed": false
   },
   "outputs": [
    {
     "data": {
      "text/plain": [
       "(288171, 12)"
      ]
     },
     "execution_count": 258,
     "metadata": {},
     "output_type": "execute_result"
    }
   ],
   "source": [
    "final_merge.loc[final_merge.final_tid == final_merge.cbrec].shape"
   ]
  },
  {
   "cell_type": "code",
   "execution_count": 273,
   "metadata": {
    "collapsed": false
   },
   "outputs": [],
   "source": [
    "rands = np.array([np.random.uniform(0, 1) for i in range(final_merge.shape[0])])"
   ]
  },
  {
   "cell_type": "code",
   "execution_count": null,
   "metadata": {
    "collapsed": false
   },
   "outputs": [],
   "source": []
  },
  {
   "cell_type": "code",
   "execution_count": 274,
   "metadata": {
    "collapsed": false
   },
   "outputs": [
    {
     "data": {
      "text/plain": [
       "0.57699147977290288"
      ]
     },
     "execution_count": 274,
     "metadata": {},
     "output_type": "execute_result"
    }
   ],
   "source": [
    "np.sqrt(((rands - final_merge.pc_norm) ** 2).mean())"
   ]
  },
  {
   "cell_type": "code",
   "execution_count": null,
   "metadata": {
    "collapsed": true
   },
   "outputs": [],
   "source": []
  }
 ],
 "metadata": {
  "kernelspec": {
   "display_name": "Python 2",
   "language": "python",
   "name": "python2"
  },
  "language_info": {
   "codemirror_mode": {
    "name": "ipython",
    "version": 2
   },
   "file_extension": ".py",
   "mimetype": "text/x-python",
   "name": "python",
   "nbconvert_exporter": "python",
   "pygments_lexer": "ipython2",
   "version": "2.7.10"
  }
 },
 "nbformat": 4,
 "nbformat_minor": 0
}
